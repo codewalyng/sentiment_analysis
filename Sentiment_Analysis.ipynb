{
 "cells": [
  {
   "cell_type": "markdown",
   "id": "b861f685",
   "metadata": {},
   "source": [
    "<h1><center>Analyse des opinions par règles sur des données de twitter </center></h1>"
   ]
  },
  {
   "cell_type": "markdown",
   "id": "9f912e63",
   "metadata": {},
   "source": [
    "<h1><center> 1. Objectif </center></h1>"
   ]
  },
  {
   "cell_type": "markdown",
   "id": "c3e5dac0",
   "metadata": {},
   "source": [
    "Dans ce TP, nous allons effectuer une anlyse d’opinions sur un volume très réduit de données (˜500\n",
    "échantillons) extraites de twitter. Ces échantillons de texte sont par nature de petite taille : ils contiennent\n",
    "peu de mots, et donc peu d’éléments contextuels pour aider à l’entraînement et la prédiction de sentiments.\n",
    "De plus, ils contiennent souvent des abréviations et des conventions langagières non-usuelles.\n",
    "L’objectif de ce TP est donc d’analyser ce corpus de tweets à l’aide de règles, principalement basées\n",
    "sur des ressources lexicales, comme des scores positifs ou négatifs associés à certain mots. Nous pourrons\n",
    "travailler sans entraîner de classifieur (ce qui nécessiterait un nombre conséquent de tweets labellisés,\n",
    "même si nous avions des représentations de mots pré-entraînées à disposition) mais nous devrons récupérer\n",
    "et réfléchir à la meilleure manière d’exploiter les ressources disponibles.\n",
    "Le TP est à rédiger en python et à rendre sous la forme d’un notebook (.ipynb) dans l’espace de rendu\n",
    "dédié sur e-campus. Merci de mettre en valeur, quand il y a lieu, vos réponses aux questions et votre\n",
    "démarche expérimentale."
   ]
  },
  {
   "cell_type": "markdown",
   "id": "7068f65b",
   "metadata": {},
   "source": [
    "<h1><center> 2. Documentation : Python et NLTK - Natural Language processing Toolkit </center></h1>"
   ]
  },
  {
   "cell_type": "markdown",
   "id": "59b239ea",
   "metadata": {},
   "source": [
    "Vous aurez besoin d’une documentation sur NLTK :\n",
    "\n",
    "— Le site de NLTK : http://www.nltk.org/\n",
    "\n",
    "— La notice d’utilisation de l’interface de WordNet pour NLTK : http://www.nltk.org/howto/wordnet.html\n",
    "\n",
    "— Et celle de l’interface de SentiWordNet, toujours pour NLTK : http://www.nltk.org/howto/sentiwordnet.html\n",
    "\n",
    "— La notice d’utilisation du PoS tagger : http://www.nltk.org/book/ch05.html ... et, plus particulièrement, sur WordNet et SentiWordNet :\n",
    "\n",
    "— Le site web de WordNet : http://wordnet.princeton.edu/\n",
    "\n",
    "— Le site web de SentiWordNet : http://sentiwordnet.isti.cnr.it/\n",
    "\n",
    "— Le site de Christopher Potts, qui explique comment utiliser WordNet avec NLTK, puis comment\n",
    "utiliser SentiWordNet via un script (qui est désormais intégré à NLTK) : http://compprag. christopherpotts.net/wordnet.html"
   ]
  },
  {
   "cell_type": "markdown",
   "id": "f8ee359f",
   "metadata": {},
   "source": [
    "<h1><center> 3. Implémentation d’un système d’analyse d’opinions </center></h1>"
   ]
  },
  {
   "cell_type": "markdown",
   "id": "787814cd",
   "metadata": {},
   "source": [
    "<h1><center> 3.1. Présentation du corpus de tweets </center></h1>"
   ]
  },
  {
   "cell_type": "markdown",
   "id": "eb136697",
   "metadata": {},
   "source": [
    "Les tweets à analyser sont contenus dans l’archive testdata.manual.2009.06.14.csv. Cette base (Sentiment140) a été obtenue sur le site de l’université de Stanford : http://help.sentiment140.com/ for-students. Un extrait en est donné dans le tableau 1. La base contient 498 tweets annotés manuellement. La base propose 6 champs correspondant aux informations suivantes :\n",
    "\n",
    "1. La polarité du tweet : Chaque tweet est accompagné d’un score pouvant être égal à 0 (négatif), 2(neutre) ou 4 (positif).\n",
    "\n",
    "2. L’identifiant du tweet (2087)\n",
    "\n",
    "3. La date du tweet (Sat May 16 23 :58 :44 UTC 2009)\n",
    "\n",
    "4. La requête associée (lyx). Si pas de requête la valeur est NO_ QUERY.\n",
    "\n",
    "5. L’utilisateur qui a tweeté (robotickilldozr)\n",
    "\n",
    "6. Le texte du tweet (Lyx is cool)\n"
   ]
  },
  {
   "cell_type": "markdown",
   "id": "d7ba04ad",
   "metadata": {},
   "source": [
    "<h1><center> 3.2. Prétraitements du corpus </center></h1>"
   ]
  },
  {
   "cell_type": "markdown",
   "id": "1a2bba1f",
   "metadata": {},
   "source": [
    "Les tweets contiennent des caractères spéciaux susceptibles de nuire à la mise en place de nos méthodes\n",
    "d’analyse d’opinions.\n",
    "\n",
    "######  Écrire une fonction permettant pour chaque tweet de :\n",
    "\n",
    "— Récupérer le texte associé\n",
    "\n",
    "— Le segmenter en tokens\n",
    "\n",
    "— Supprimer les urls\n",
    "\n",
    "— Nettoyer les caractères inhérents à la structure d’un tweet (hashtags !)\n",
    "\n",
    "— Corriger les abréviations et les spécificités langagières des tweets à l’aide du dictionnaire DicoSlang\n",
    "(fichier SlangLookupTable.txt)"
   ]
  },
  {
   "cell_type": "markdown",
   "id": "c588868d",
   "metadata": {},
   "source": [
    "###### Vous ajouterez à votre fonction un moyen d’obtenir le nombre d’occurrences des hashtags, dont vous donnerez le compte sur l’ensemble du corpus."
   ]
  },
  {
   "cell_type": "code",
   "execution_count": 4,
   "id": "c27c3c6f",
   "metadata": {},
   "outputs": [],
   "source": [
    "#Import librairies\n",
    "import os\n",
    "import csv as csv\n",
    "import pandas as pd\n",
    "import nltk as nltk\n",
    "from nltk.tokenize import word_tokenize\n",
    "from nltk.tokenize import TweetTokenizer\n",
    "from nltk.corpus import wordnet as wn\n",
    "from nltk.corpus.reader import sentiwordnet as swn\n",
    "from nltk.tag import map_tag\n",
    "import re\n",
    "from nltk.corpus import wordnet as wn\n",
    "import codecs\n",
    "import string\n",
    "\n",
    "\n",
    "import warnings\n",
    "warnings.filterwarnings(\"ignore\")"
   ]
  },
  {
   "cell_type": "markdown",
   "id": "91012702",
   "metadata": {},
   "source": [
    "#### Recupération des données"
   ]
  },
  {
   "cell_type": "code",
   "execution_count": 5,
   "id": "df0a2b4c",
   "metadata": {},
   "outputs": [
    {
     "data": {
      "text/html": [
       "<div>\n",
       "<style scoped>\n",
       "    .dataframe tbody tr th:only-of-type {\n",
       "        vertical-align: middle;\n",
       "    }\n",
       "\n",
       "    .dataframe tbody tr th {\n",
       "        vertical-align: top;\n",
       "    }\n",
       "\n",
       "    .dataframe thead th {\n",
       "        text-align: right;\n",
       "    }\n",
       "</style>\n",
       "<table border=\"1\" class=\"dataframe\">\n",
       "  <thead>\n",
       "    <tr style=\"text-align: right;\">\n",
       "      <th></th>\n",
       "      <th>Polarite</th>\n",
       "      <th>Identifiant</th>\n",
       "      <th>Date</th>\n",
       "      <th>flag</th>\n",
       "      <th>user</th>\n",
       "      <th>text</th>\n",
       "    </tr>\n",
       "  </thead>\n",
       "  <tbody>\n",
       "    <tr>\n",
       "      <th>0</th>\n",
       "      <td>4</td>\n",
       "      <td>3</td>\n",
       "      <td>Mon May 11 03:17:40 UTC 2009</td>\n",
       "      <td>kindle2</td>\n",
       "      <td>tpryan</td>\n",
       "      <td>@stellargirl I loooooooovvvvvveee my Kindle2. ...</td>\n",
       "    </tr>\n",
       "    <tr>\n",
       "      <th>1</th>\n",
       "      <td>4</td>\n",
       "      <td>4</td>\n",
       "      <td>Mon May 11 03:18:03 UTC 2009</td>\n",
       "      <td>kindle2</td>\n",
       "      <td>vcu451</td>\n",
       "      <td>Reading my kindle2...  Love it... Lee childs i...</td>\n",
       "    </tr>\n",
       "    <tr>\n",
       "      <th>2</th>\n",
       "      <td>4</td>\n",
       "      <td>5</td>\n",
       "      <td>Mon May 11 03:18:54 UTC 2009</td>\n",
       "      <td>kindle2</td>\n",
       "      <td>chadfu</td>\n",
       "      <td>Ok, first assesment of the #kindle2 ...it fuck...</td>\n",
       "    </tr>\n",
       "    <tr>\n",
       "      <th>3</th>\n",
       "      <td>4</td>\n",
       "      <td>6</td>\n",
       "      <td>Mon May 11 03:19:04 UTC 2009</td>\n",
       "      <td>kindle2</td>\n",
       "      <td>SIX15</td>\n",
       "      <td>@kenburbary You'll love your Kindle2. I've had...</td>\n",
       "    </tr>\n",
       "    <tr>\n",
       "      <th>4</th>\n",
       "      <td>4</td>\n",
       "      <td>7</td>\n",
       "      <td>Mon May 11 03:21:41 UTC 2009</td>\n",
       "      <td>kindle2</td>\n",
       "      <td>yamarama</td>\n",
       "      <td>@mikefish  Fair enough. But i have the Kindle2...</td>\n",
       "    </tr>\n",
       "  </tbody>\n",
       "</table>\n",
       "</div>"
      ],
      "text/plain": [
       "   Polarite  Identifiant                          Date     flag      user  \\\n",
       "0         4            3  Mon May 11 03:17:40 UTC 2009  kindle2    tpryan   \n",
       "1         4            4  Mon May 11 03:18:03 UTC 2009  kindle2    vcu451   \n",
       "2         4            5  Mon May 11 03:18:54 UTC 2009  kindle2    chadfu   \n",
       "3         4            6  Mon May 11 03:19:04 UTC 2009  kindle2     SIX15   \n",
       "4         4            7  Mon May 11 03:21:41 UTC 2009  kindle2  yamarama   \n",
       "\n",
       "                                                text  \n",
       "0  @stellargirl I loooooooovvvvvveee my Kindle2. ...  \n",
       "1  Reading my kindle2...  Love it... Lee childs i...  \n",
       "2  Ok, first assesment of the #kindle2 ...it fuck...  \n",
       "3  @kenburbary You'll love your Kindle2. I've had...  \n",
       "4  @mikefish  Fair enough. But i have the Kindle2...  "
      ]
     },
     "execution_count": 5,
     "metadata": {},
     "output_type": "execute_result"
    }
   ],
   "source": [
    "dataReader= pd.read_csv(\"testdata.manual.2009.06.14.csv\",header=None,sep=\",\",names=[\"Polarite\",\n",
    "                             \"Identifiant\",\"Date\",\"flag\",\"user\",\"text\"])\n",
    "dataReader.head()"
   ]
  },
  {
   "cell_type": "code",
   "execution_count": 6,
   "id": "4988ac16",
   "metadata": {},
   "outputs": [
    {
     "name": "stdout",
     "output_type": "stream",
     "text": [
      "<class 'pandas.core.frame.DataFrame'>\n",
      "RangeIndex: 498 entries, 0 to 497\n",
      "Data columns (total 6 columns):\n",
      " #   Column       Non-Null Count  Dtype \n",
      "---  ------       --------------  ----- \n",
      " 0   Polarite     498 non-null    int64 \n",
      " 1   Identifiant  498 non-null    int64 \n",
      " 2   Date         498 non-null    object\n",
      " 3   flag         498 non-null    object\n",
      " 4   user         498 non-null    object\n",
      " 5   text         498 non-null    object\n",
      "dtypes: int64(2), object(4)\n",
      "memory usage: 23.5+ KB\n"
     ]
    }
   ],
   "source": [
    "n,p = dataReader.shape\n",
    "dataReader.info()"
   ]
  },
  {
   "cell_type": "markdown",
   "id": "bb8d22eb",
   "metadata": {},
   "source": [
    "##### Ouverture du dictionnaire"
   ]
  },
  {
   "cell_type": "code",
   "execution_count": 7,
   "id": "8b447064",
   "metadata": {},
   "outputs": [],
   "source": [
    "#file = codecs.open(\"SlangLookupTable.txt\", 'r', encoding=\"utf-8\", errors='ignore')"
   ]
  },
  {
   "cell_type": "code",
   "execution_count": 8,
   "id": "885abcf0",
   "metadata": {},
   "outputs": [
    {
     "data": {
      "text/html": [
       "<div>\n",
       "<style scoped>\n",
       "    .dataframe tbody tr th:only-of-type {\n",
       "        vertical-align: middle;\n",
       "    }\n",
       "\n",
       "    .dataframe tbody tr th {\n",
       "        vertical-align: top;\n",
       "    }\n",
       "\n",
       "    .dataframe thead th {\n",
       "        text-align: right;\n",
       "    }\n",
       "</style>\n",
       "<table border=\"1\" class=\"dataframe\">\n",
       "  <thead>\n",
       "    <tr style=\"text-align: right;\">\n",
       "      <th></th>\n",
       "      <th>Tweet</th>\n",
       "      <th>signification</th>\n",
       "    </tr>\n",
       "  </thead>\n",
       "  <tbody>\n",
       "    <tr>\n",
       "      <th>0</th>\n",
       "      <td>121</td>\n",
       "      <td>one to one</td>\n",
       "    </tr>\n",
       "    <tr>\n",
       "      <th>1</th>\n",
       "      <td>a/s/l</td>\n",
       "      <td>age, sex, location</td>\n",
       "    </tr>\n",
       "    <tr>\n",
       "      <th>2</th>\n",
       "      <td>adn</td>\n",
       "      <td>any day now</td>\n",
       "    </tr>\n",
       "    <tr>\n",
       "      <th>3</th>\n",
       "      <td>afaik</td>\n",
       "      <td>as far as I know</td>\n",
       "    </tr>\n",
       "    <tr>\n",
       "      <th>4</th>\n",
       "      <td>afk</td>\n",
       "      <td>away from keyboard</td>\n",
       "    </tr>\n",
       "  </tbody>\n",
       "</table>\n",
       "</div>"
      ],
      "text/plain": [
       "   Tweet       signification\n",
       "0    121          one to one\n",
       "1  a/s/l  age, sex, location\n",
       "2    adn         any day now\n",
       "3  afaik    as far as I know\n",
       "4    afk  away from keyboard"
      ]
     },
     "execution_count": 8,
     "metadata": {},
     "output_type": "execute_result"
    }
   ],
   "source": [
    "file = pd.read_csv(\"SlangLookupTable.txt\",encoding='windows-1254', delimiter = \"\\t\", header=None,names=[\"Tweet\",\n",
    "                                                                                            \"signification\"])\n",
    "file.head()"
   ]
  },
  {
   "cell_type": "code",
   "execution_count": 9,
   "id": "cd903b94",
   "metadata": {
    "scrolled": true
   },
   "outputs": [
    {
     "name": "stdout",
     "output_type": "stream",
     "text": [
      "<class 'pandas.core.frame.DataFrame'>\n",
      "RangeIndex: 90 entries, 0 to 89\n",
      "Data columns (total 2 columns):\n",
      " #   Column         Non-Null Count  Dtype \n",
      "---  ------         --------------  ----- \n",
      " 0   Tweet          90 non-null     object\n",
      " 1   signification  90 non-null     object\n",
      "dtypes: object(2)\n",
      "memory usage: 1.5+ KB\n"
     ]
    }
   ],
   "source": [
    "file.info()"
   ]
  },
  {
   "cell_type": "markdown",
   "id": "68ca0718",
   "metadata": {},
   "source": [
    "### Ecriture de notre fonction"
   ]
  },
  {
   "cell_type": "code",
   "execution_count": 10,
   "id": "0b17c42d",
   "metadata": {},
   "outputs": [],
   "source": [
    "#Suppression des urls\n",
    "def strip_links(text):\n",
    "    link_regex = re.compile('((https?):((//)|(\\\\\\\\))+([\\w\\d:#@%/;$()~_?\\+-=\\\\\\.&](#!)?)*)', re.DOTALL)\n",
    "    links = re.findall(link_regex, text)\n",
    "    for link in links:\n",
    "        text = text.replace(link[0], ', ')    \n",
    "    return text\n",
    "\n",
    "def preProcessedTweet (text):\n",
    "    #Sppressions des urls\n",
    "    n_oc=text.count(\"#\")\n",
    "    text=strip_links(text)\n",
    "    text=text.strip()\n",
    "    #Suppression des hashtags\n",
    "    text= text.replace('#',' ')\n",
    "    #Suppression de @\n",
    "    text= text.replace('@',' ')\n",
    "    text=text.strip()\n",
    "    #Suppression de la ponctuation\n",
    "    text= word_tokenize(text)\n",
    "    #Correction des abréviations et les spécificités langagières des tweets\n",
    "    words=[]\n",
    "    for element in text:\n",
    "        if element in file[\"Tweet\"].tolist():\n",
    "            idx=file[file[\"Tweet\"]==element].index\n",
    "            words=words+file.loc[idx[0]][\"signification\"].split()\n",
    "        else:\n",
    "            words.append(element)\n",
    "        if element in string.punctuation:\n",
    "            idxx=text.index(element)\n",
    "        #if element in string.punctuation:\n",
    "    #Nombre de hashtags dans le corpus\n",
    "    N_oc=sum([texte.count(\"#\") for texte in dataReader[\"text\"]])\n",
    "    return N_oc, words\n",
    "    "
   ]
  },
  {
   "cell_type": "code",
   "execution_count": 11,
   "id": "cd3863a4",
   "metadata": {},
   "outputs": [
    {
     "data": {
      "text/plain": [
       "(52,\n",
       " ['stellargirl',\n",
       "  'I',\n",
       "  'loooooooovvvvvveee',\n",
       "  'my',\n",
       "  'Kindle2',\n",
       "  '.',\n",
       "  'Not',\n",
       "  'that',\n",
       "  'the',\n",
       "  'DX',\n",
       "  'is',\n",
       "  'cool',\n",
       "  ',',\n",
       "  'but',\n",
       "  'the',\n",
       "  '2',\n",
       "  'is',\n",
       "  'fantastic',\n",
       "  'in',\n",
       "  'its',\n",
       "  'own',\n",
       "  'right',\n",
       "  '.'])"
      ]
     },
     "execution_count": 11,
     "metadata": {},
     "output_type": "execute_result"
    }
   ],
   "source": [
    "#Test avec le premier tweet\n",
    "Test=preProcessedTweet(dataReader[\"text\"][0])\n",
    "Test"
   ]
  },
  {
   "cell_type": "code",
   "execution_count": 12,
   "id": "8109093c",
   "metadata": {},
   "outputs": [
    {
     "name": "stdout",
     "output_type": "stream",
     "text": [
      "Le nombre d'occurence de  hashtag est de :  52\n"
     ]
    }
   ],
   "source": [
    "nombre=preProcessedTweet(dataReader[\"text\"][12])[0]\n",
    "print(f\"Le nombre d'occurence de  hashtag est de :  {nombre}\") "
   ]
  },
  {
   "cell_type": "markdown",
   "id": "d69fa021",
   "metadata": {},
   "source": [
    "<h1><center> 3.3. Étiquetage grammatical </center></h1>"
   ]
  },
  {
   "cell_type": "code",
   "execution_count": 13,
   "id": "f0c30670",
   "metadata": {},
   "outputs": [],
   "source": [
    "def taggedTweet(text):\n",
    "    tokens= word_tokenize(text)\n",
    "    taggedData = nltk.pos_tag(tokens)\n",
    "    simplified_tags = [(word, map_tag('en-ptb', 'universal', tag)) for word, tag in taggedData]\n",
    "    verbe=[]\n",
    "    for element in simplified_tags:\n",
    "        if element[1] == \"VERB\":\n",
    "            verbe.append(element[1])\n",
    "    nbre_verb= len(verbe)\n",
    "    return simplified_tags, nbre_verb\n",
    "    "
   ]
  },
  {
   "cell_type": "code",
   "execution_count": 14,
   "id": "090374e6",
   "metadata": {},
   "outputs": [
    {
     "data": {
      "text/plain": [
       "([('stellargirl', 'NOUN'),\n",
       "  ('I', 'PRON'),\n",
       "  ('loooooooovvvvvveee', 'VERB'),\n",
       "  ('my', 'PRON'),\n",
       "  ('Kindle2', 'NOUN'),\n",
       "  ('.', '.'),\n",
       "  ('Not', 'ADV'),\n",
       "  ('that', 'ADP'),\n",
       "  ('the', 'DET'),\n",
       "  ('DX', 'NOUN'),\n",
       "  ('is', 'VERB'),\n",
       "  ('cool', 'ADJ'),\n",
       "  (',', '.'),\n",
       "  ('but', 'CONJ'),\n",
       "  ('the', 'DET'),\n",
       "  ('2', 'NUM'),\n",
       "  ('is', 'VERB'),\n",
       "  ('fantastic', 'ADJ'),\n",
       "  ('in', 'ADP'),\n",
       "  ('its', 'PRON'),\n",
       "  ('own', 'ADJ'),\n",
       "  ('right', 'NOUN'),\n",
       "  ('.', '.')],\n",
       " 3)"
      ]
     },
     "execution_count": 14,
     "metadata": {},
     "output_type": "execute_result"
    }
   ],
   "source": [
    "taggedTweet(\" \".join(preProcessedTweet(dataReader[\"text\"][0])[1]))"
   ]
  },
  {
   "cell_type": "code",
   "execution_count": 15,
   "id": "94127639",
   "metadata": {},
   "outputs": [
    {
     "name": "stdout",
     "output_type": "stream",
     "text": [
      "Le nombre de mots étiquetés verbes dans le corpus est de :  1169\n"
     ]
    }
   ],
   "source": [
    "Nbre_verb=0\n",
    "for element in dataReader[\"text\"]:\n",
    "    Nbre_verb += taggedTweet(\" \".join(preProcessedTweet(element)[1]))[1]\n",
    "print(f\"Le nombre de mots étiquetés verbes dans le corpus est de :  {Nbre_verb}\")"
   ]
  },
  {
   "cell_type": "markdown",
   "id": "db9e3a0d",
   "metadata": {},
   "source": [
    "<h1><center> 3.4. Algorithme de détection : utilisation du dictionnaire Sentiwordnet </center></h1>"
   ]
  },
  {
   "cell_type": "markdown",
   "id": "81a3066f",
   "metadata": {},
   "source": [
    "###### Ecrire d'une fonction permettant :\n",
    "\n",
    "- De récupérer uniquement les mots correspondant à des adjectifs, noms, adverbes et verbe,\n",
    "\n",
    "- D’accéder aux scores (positifs et négatifs) des synsets,\n",
    "\n",
    "- De calculer pour chaque mot les scores associés à leur premier synset,\n",
    "\n",
    "- De calculer pour chaque tweet la somme des scores positifs et négatifs des synsets du tweet,\n",
    "\n",
    "- De comparez la somme des scores positifs et des scores négatifs de chaque tweet pour décider de la\n",
    " classe à associer au tweet."
   ]
  },
  {
   "cell_type": "code",
   "execution_count": 16,
   "id": "7769ca71",
   "metadata": {},
   "outputs": [],
   "source": [
    "#Exemple\n",
    "dicoSentiWordnetFile = 'SentiWordNet_3.0.0_20130122.txt'\n",
    "swn_dict = swn.SentiWordNetCorpusReader('', [dicoSentiWordnetFile])\n"
   ]
  },
  {
   "cell_type": "code",
   "execution_count": 17,
   "id": "221b21b7",
   "metadata": {},
   "outputs": [],
   "source": [
    "def getsentiment(text):\n",
    "    taggedtweet= taggedTweet(\" \".join(preProcessedTweet(text)[1]))\n",
    "    posscore = 0\n",
    "    negscore = 0\n",
    "    synsets = None\n",
    "    evaluedwords=[\"ADJ\",\"NOUN\",\"VERB\",\"ADP\"]\n",
    "    for element in taggedtweet[0]:\n",
    "        if element[1] in  evaluedwords:\n",
    "            synsets =  swn_dict.senti_synsets(element[0])\n",
    "        if synsets != None:\n",
    "            synsets = list(synsets)\n",
    "            if len(synsets) > 0:\n",
    "                synset = synsets[0]\n",
    "                posscore = posscore + synset.pos_score()\n",
    "                negscore = negscore + synset.neg_score()\n",
    "    if posscore > negscore:\n",
    "        return (posscore , negscore, 4)\n",
    "    elif negscore > posscore:\n",
    "        return (posscore, negscore, 0)\n",
    "    else:\n",
    "        return (posscore, negscore,2)    "
   ]
  },
  {
   "cell_type": "code",
   "execution_count": 18,
   "id": "76261660",
   "metadata": {},
   "outputs": [
    {
     "data": {
      "text/plain": [
       "(2.125, 2.125, 2)"
      ]
     },
     "execution_count": 18,
     "metadata": {},
     "output_type": "execute_result"
    }
   ],
   "source": [
    "getsentiment(dataReader[\"text\"][0])"
   ]
  },
  {
   "cell_type": "code",
   "execution_count": 19,
   "id": "341c1e7a",
   "metadata": {},
   "outputs": [],
   "source": [
    "y_pred=[getsentiment(dataReader[\"text\"][i])[2] for i in range(n)]\n",
    "y_pred = pd.Series(y_pred)\n",
    "y_true=dataReader[\"Polarite\"]"
   ]
  },
  {
   "cell_type": "code",
   "execution_count": 20,
   "id": "b5432984",
   "metadata": {},
   "outputs": [
    {
     "data": {
      "text/plain": [
       "271"
      ]
     },
     "execution_count": 20,
     "metadata": {},
     "output_type": "execute_result"
    }
   ],
   "source": [
    "# Nombre de tweets correctement classifiés\n",
    "(y_true.values == y_pred.values).sum()"
   ]
  },
  {
   "cell_type": "code",
   "execution_count": 21,
   "id": "d3f44a51",
   "metadata": {},
   "outputs": [
    {
     "data": {
      "text/plain": [
       "54.41767068273092"
      ]
     },
     "execution_count": 21,
     "metadata": {},
     "output_type": "execute_result"
    }
   ],
   "source": [
    "# Accuracy\n",
    "((y_true.values == y_pred.values).sum()/n )*100"
   ]
  },
  {
   "cell_type": "code",
   "execution_count": 22,
   "id": "e8859ec6",
   "metadata": {},
   "outputs": [
    {
     "data": {
      "image/png": "[encoded data removed]",
      "text/plain": [
       "<Figure size 576x432 with 2 Axes>"
      ]
     },
     "metadata": {
      "needs_background": "light"
     },
     "output_type": "display_data"
    }
   ],
   "source": [
    "from sklearn.metrics import confusion_matrix, ConfusionMatrixDisplay\n",
    "import matplotlib.pyplot as plt\n",
    "fig, ax = plt.subplots(1,1, figsize = (8,6))\n",
    "ConfusionMatrixDisplay(confusion_matrix(y_true, y_pred)).plot(ax = ax)\n",
    "ax.xaxis.set_ticklabels(['0', '2', '4'])\n",
    "ax.yaxis.set_ticklabels(['0', '2', '4'])\n",
    "#plt.title()\n",
    "plt.show()"
   ]
  },
  {
   "cell_type": "markdown",
   "id": "686b4f07",
   "metadata": {},
   "source": [
    "<h1><center> 3.5. Algorithme de détection : gestion de la négation et des modifieurs </center></h1>"
   ]
  },
  {
   "cell_type": "code",
   "execution_count": 23,
   "id": "6feaac0c",
   "metadata": {},
   "outputs": [],
   "source": [
    "fichierneg=pd.read_csv(\"NegatingWordList.txt\", names=[\"negation\"])\n",
    "fichierneg = fichierneg.values"
   ]
  },
  {
   "cell_type": "code",
   "execution_count": 24,
   "id": "79ac9863",
   "metadata": {},
   "outputs": [
    {
     "data": {
      "text/plain": [
       "array([[\"aren't\"],\n",
       "       ['arent'],\n",
       "       [\"can't\"],\n",
       "       ['cannot'],\n",
       "       ['cant'],\n",
       "       [\"don't\"],\n",
       "       ['dont'],\n",
       "       [\"isn't\"],\n",
       "       ['isnt'],\n",
       "       ['never'],\n",
       "       ['not'],\n",
       "       [\"won't\"],\n",
       "       ['wont'],\n",
       "       [\"wouldn't\"],\n",
       "       ['wouldnt']], dtype=object)"
      ]
     },
     "execution_count": 24,
     "metadata": {},
     "output_type": "execute_result"
    }
   ],
   "source": [
    "fichierneg"
   ]
  },
  {
   "cell_type": "code",
   "execution_count": 25,
   "id": "9bc2dd84",
   "metadata": {},
   "outputs": [
    {
     "data": {
      "text/plain": [
       "['absolutely',\n",
       " 'definitely',\n",
       " 'extremely',\n",
       " 'fuckin',\n",
       " 'fucking',\n",
       " 'hugely',\n",
       " 'incredibly',\n",
       " 'just',\n",
       " 'overwhelmingly',\n",
       " 'so',\n",
       " 'some',\n",
       " 'sum',\n",
       " 'very']"
      ]
     },
     "execution_count": 25,
     "metadata": {},
     "output_type": "execute_result"
    }
   ],
   "source": [
    "Boostword=pd.read_csv(\"BoosterWordList.txt\", sep='\\t', names=[\"modifieur\",\"valeur\",\"commentaire\"])\n",
    "Boostword = list(Boostword[\"modifieur\"])\n",
    "Boostword"
   ]
  },
  {
   "cell_type": "code",
   "execution_count": 26,
   "id": "803b1511",
   "metadata": {},
   "outputs": [],
   "source": [
    "def gestnegmodif(text):\n",
    "    taggedtweet= taggedTweet(\" \".join(preProcessedTweet(text)[1]))\n",
    "    #Initialisation\n",
    "    posscore = 0\n",
    "    negscore = 0\n",
    "    nb_neg = 0\n",
    "    synsets = None\n",
    "    precedent_est_modifieur = False\n",
    "    precedent_est_negatif = False\n",
    "    #Mots evalues\n",
    "    kindevaluedwords=[\"ADJ\",\"NOUN\",\"VERB\",\"ADP\"]\n",
    "    evaluedwords=[element for element in taggedtweet[0] if element[1] in kindevaluedwords]\n",
    "    for word, tag in evaluedwords:\n",
    "        #posscore += swn_dict.senti_synsets(word).pos_score()\n",
    "        #negscore += swn_dict.senti_synsets(word).neg_score()\n",
    "        \n",
    "        synsets = swn_dict.senti_synsets(word)\n",
    "        if synsets != None:\n",
    "            synsets=list(synsets)\n",
    "            if len(synsets)>0:\n",
    "                synset = synsets[0]\n",
    "                if precedent_est_negatif == True:\n",
    "                    if precedent_est_modifieur == True:\n",
    "                        posscore += synset.neg_score() *2\n",
    "                        negscore += synset.pos_score() *2\n",
    "                    else:\n",
    "                        posscore += synset.neg_score()\n",
    "                        negscore += synset.pos_score()\n",
    "\n",
    "                else:\n",
    "                    if precedent_est_modifieur == True:\n",
    "                        posscore += synset.pos_score() *2\n",
    "                        negscore += synset.neg_score() *2\n",
    "\n",
    "                    else:\n",
    "                        posscore +=synset.pos_score()\n",
    "                        negscore += synset.neg_score()\n",
    "\n",
    "                if word in Boostword:\n",
    "                    precedent_est_modifieur = True\n",
    "                if word in fichierneg:\n",
    "                    precedent_est_negatif = True\n",
    "                    nb_neg += 1\n",
    "    \n",
    "    if posscore > negscore:\n",
    "        return (posscore , negscore, 4,nb_neg)\n",
    "    elif negscore > posscore:\n",
    "        return (posscore, negscore, 0, nb_neg)\n",
    "    else:\n",
    "        return (posscore, negscore,2, nb_neg) "
   ]
  },
  {
   "cell_type": "code",
   "execution_count": 27,
   "id": "bcea50c1",
   "metadata": {},
   "outputs": [
    {
     "data": {
      "text/plain": [
       "0      4\n",
       "1      4\n",
       "2      2\n",
       "3      4\n",
       "4      2\n",
       "      ..\n",
       "493    4\n",
       "494    0\n",
       "495    2\n",
       "496    0\n",
       "497    0\n",
       "Length: 498, dtype: int64"
      ]
     },
     "execution_count": 27,
     "metadata": {},
     "output_type": "execute_result"
    }
   ],
   "source": [
    "y_pred=[gestnegmodif(dataReader[\"text\"][i])[2] for i in range(n)]\n",
    "y_pred = pd.Series(y_pred)\n",
    "y_true=dataReader[\"Polarite\"]\n",
    "y_pred"
   ]
  },
  {
   "cell_type": "code",
   "execution_count": 28,
   "id": "91834446",
   "metadata": {},
   "outputs": [
    {
     "data": {
      "text/plain": [
       "267"
      ]
     },
     "execution_count": 28,
     "metadata": {},
     "output_type": "execute_result"
    }
   ],
   "source": [
    "# Nombre de tweets correctement classifiés\n",
    "(y_true.values == y_pred.values).sum()"
   ]
  },
  {
   "cell_type": "code",
   "execution_count": 29,
   "id": "f02e7335",
   "metadata": {},
   "outputs": [
    {
     "data": {
      "text/plain": [
       "53.6144578313253"
      ]
     },
     "execution_count": 29,
     "metadata": {},
     "output_type": "execute_result"
    }
   ],
   "source": [
    "# Accuracy\n",
    "((y_true.values == y_pred.values).sum()/n )*100"
   ]
  },
  {
   "cell_type": "code",
   "execution_count": 30,
   "id": "22cec0a3",
   "metadata": {},
   "outputs": [
    {
     "data": {
      "image/png": "[encoded data removed]",
      "text/plain": [
       "<Figure size 576x432 with 2 Axes>"
      ]
     },
     "metadata": {
      "needs_background": "light"
     },
     "output_type": "display_data"
    }
   ],
   "source": [
    "fig, ax = plt.subplots(1,1, figsize = (8,6))\n",
    "ConfusionMatrixDisplay(confusion_matrix(y_true, y_pred)).plot(ax = ax)\n",
    "ax.xaxis.set_ticklabels(['0', '2', '4'])\n",
    "ax.yaxis.set_ticklabels(['0', '2', '4'])\n",
    "#plt.title()\n",
    "plt.show()"
   ]
  },
  {
   "cell_type": "code",
   "execution_count": 31,
   "id": "1967e150",
   "metadata": {},
   "outputs": [
    {
     "name": "stdout",
     "output_type": "stream",
     "text": [
      "Sur un total de 182 tweets positifs, 127 ont été correctement prédits\n",
      "Sur un total de 139 tweets neutres, 65 ont été correctement prédits\n",
      "Sur un total de 177 tweets négatifs, 75 ont été correctement prédits\n"
     ]
    }
   ],
   "source": [
    "print(f\"Sur un total de 182 tweets positifs, 127 ont été correctement prédits\")\n",
    "print(f\"Sur un total de 139 tweets neutres, 65 ont été correctement prédits\")\n",
    "print(f\"Sur un total de 177 tweets négatifs, 75 ont été correctement prédits\")"
   ]
  },
  {
   "cell_type": "code",
   "execution_count": 32,
   "id": "ae61b48a",
   "metadata": {},
   "outputs": [
    {
     "name": "stdout",
     "output_type": "stream",
     "text": [
      " Le nombre de termes négatifs contenus dans les tweets positifs est de  :  4\n"
     ]
    }
   ],
   "source": [
    "Nb_neg=[gestnegmodif(dataReader[\"text\"][i])[3] for i in range(n)]\n",
    "Nb_neg=sum(Nb_neg)\n",
    "print(f\" Le nombre de termes négatifs contenus dans les tweets positifs est de  :  {Nb_neg}\")"
   ]
  },
  {
   "cell_type": "markdown",
   "id": "712c1892",
   "metadata": {},
   "source": [
    "<h1><center> 3.6. Algorithme de détection : gestion des émoticones </center></h1>"
   ]
  },
  {
   "cell_type": "code",
   "execution_count": 33,
   "id": "3d7e73ed",
   "metadata": {},
   "outputs": [
    {
     "data": {
      "text/plain": [
       "array(['%-(', '%-)', '(-:', '(:', '(^ ^)', '(^-^)', '(^.^)', '(^_^)',\n",
       "       '(o:', '(o;', ')-:', '):', ')o:', '*)', '*\\\\o/*', '--^--@', '0:)',\n",
       "       '38*', '8)', '8-)', '8-0', '8/', '8\\\\', '8c', ':#', \":'(\", \":'-(\",\n",
       "       ':(', ':)', ':*(', ':,(', ':-&', ':-(', ':-(o)', ':-*', ':-*',\n",
       "       ':-/', ':-/', ':-D', ':-O', ':-P', ':-S', ':-\\\\', ':-\\\\', ':-|',\n",
       "       ':-}', ':/', ':0->-<|:', ':3', ':9', ':D', ':E', ':F', ':O', ':P',\n",
       "       ':P', ':S', ':X', ':[', ':[', ':\\\\', ':]', ':_(', ':b)', ':l',\n",
       "       ':o(', ':o)', ':p', ':s', ':|', ':|', ':?', ':?(', ';)', ';^)',\n",
       "       ';o)', '</3-1', '<3', '<:}', '<o<', '=(', '=)', '=[', '=]', '>/',\n",
       "       '>:(', '>:)', '>:D', '>:L', '>:O', '>=D', '>[', '>\\\\', '>o>',\n",
       "       '@}->--', 'B(', 'Bc', 'D:', 'X(', 'X(', 'X-(', 'XD', 'XD', 'XO',\n",
       "       'XP', 'XP', '^_^', '^o)', 'x3?', 'xD', 'xP', '|8C', '|8c', '|D',\n",
       "       '}:)'], dtype=object)"
      ]
     },
     "execution_count": 33,
     "metadata": {},
     "output_type": "execute_result"
    }
   ],
   "source": [
    "Emoticone=pd.read_csv(\"EmoticonLookupTable.txt\",on_bad_lines='skip',sep=\"\\t\",names=[\"icone\",\"valeur\"])\n",
    "Emoticone[\"icone\"].values"
   ]
  },
  {
   "cell_type": "code",
   "execution_count": 34,
   "id": "c8d865d0",
   "metadata": {},
   "outputs": [],
   "source": [
    "# Séparation des émoticones en listes d\"émoticones positives, négatives et neutre \n",
    "Emotpos= Emoticone[Emoticone[\"valeur\"]==1][\"icone\"].values\n",
    "Emotneg= Emoticone[Emoticone[\"valeur\"]==-1][\"icone\"].values\n",
    "Emotneut= Emoticone[Emoticone[\"valeur\"]==0][\"icone\"].values"
   ]
  },
  {
   "cell_type": "code",
   "execution_count": 35,
   "id": "76f48fe4",
   "metadata": {},
   "outputs": [],
   "source": [
    "# Nouvelle fonction de preprocessing\n",
    "\n",
    "#import TweetTokenizer() method from nltk\n",
    "from nltk.tokenize import TweetTokenizer\n",
    "\n",
    "# Create a reference variable for Class TweetTokenizer\n",
    "tk = TweetTokenizer(strip_handles=True)\n",
    "\n",
    "\n",
    "\n",
    "#Suppression des urls et des noms d'utilisateurs\n",
    "def strip_links(text):\n",
    "    link_regex = re.compile('((https?):((//)|(\\\\\\\\))+([\\w\\d:#@%/;$()~_?\\+-=\\\\\\.&](#!)?)*)', re.DOTALL)\n",
    "    links = re.findall(link_regex, text)\n",
    "    for link in links:\n",
    "        text = text.replace(link[0], ', ') \n",
    "    return text\n",
    "\n",
    "def preProcessedTweets (text):\n",
    "    \n",
    "    #Sppressions des urls\n",
    "    n_oc=text.count(\"#\")\n",
    "    text=strip_links(text)\n",
    "    text=text.strip()\n",
    "    #Suppression des hashtags\n",
    "    text= text.replace('#',' ')\n",
    "    text=text.strip()\n",
    "    #Suppression de la ponctuation\n",
    "    text= tk.tokenize(text)\n",
    "    #Correction des abréviations et les spécificités langagières des tweets\n",
    "    words=[]\n",
    "    for element in text:\n",
    "        if element in file[\"Tweet\"].tolist():\n",
    "            idx=file[file[\"Tweet\"]==element].index\n",
    "            words=words+file.loc[idx[0]][\"signification\"].split()\n",
    "        else:\n",
    "            words.append(element)\n",
    "        if element in string.punctuation:\n",
    "            idxx=text.index(element)\n",
    "        #if element in string.punctuation:\n",
    "    #Nombre de hashtags dans le corpus\n",
    "    N_oc=sum([texte.count(\"#\") for texte in dataReader[\"text\"]])\n",
    "    return N_oc, words"
   ]
  },
  {
   "cell_type": "code",
   "execution_count": 36,
   "id": "8db3b316",
   "metadata": {},
   "outputs": [
    {
     "data": {
      "text/plain": [
       "['Fair',\n",
       " 'enough',\n",
       " '.',\n",
       " 'But',\n",
       " 'i',\n",
       " 'have',\n",
       " 'the',\n",
       " 'Kindle',\n",
       " '2',\n",
       " 'and',\n",
       " 'I',\n",
       " 'think',\n",
       " \"it's\",\n",
       " 'perfect',\n",
       " ':)']"
      ]
     },
     "execution_count": 36,
     "metadata": {},
     "output_type": "execute_result"
    }
   ],
   "source": [
    "#Test avec le premier tweet\n",
    "Test=preProcessedTweets(dataReader[\"text\"][4])[1]\n",
    "Test"
   ]
  },
  {
   "cell_type": "code",
   "execution_count": 37,
   "id": "19607a92",
   "metadata": {},
   "outputs": [],
   "source": [
    "def gestemotic(text,postemot,negemot):\n",
    "    taggedtweet= taggedTweet(\" \".join(preProcessedTweets(text)[1]))\n",
    "    posscore = 0\n",
    "    negscore = 0\n",
    "    emopos = 0\n",
    "    emoneg= 0\n",
    "    synsets = None\n",
    "    kindevaluedwords=[\"ADJ\",\"NOUN\",\"VERB\",\"ADP\"]\n",
    "    evaluedwords=[element for element in taggedtweet[0] if element[1] in kindevaluedwords]\n",
    "    for element in preProcessedTweets(text)[1]:\n",
    "        if element in postemot:\n",
    "            emopos +=1\n",
    "        if element in negemot:\n",
    "            emoneg +=1\n",
    "    for couple in taggedtweet[0]:\n",
    "        if couple in  evaluedwords:\n",
    "            synsets =  swn_dict.senti_synsets(couple[0])\n",
    "        if synsets != None:\n",
    "            synsets = list(synsets)\n",
    "            if len(synsets) > 0:\n",
    "                synset = synsets[0]\n",
    "                posscore = posscore + synset.pos_score()\n",
    "                negscore = negscore + synset.neg_score()\n",
    "    posscore=posscore + emopos\n",
    "    negscore = negscore + emoneg\n",
    "    if posscore > negscore:\n",
    "        return (posscore , negscore, 4)\n",
    "    elif negscore > posscore:\n",
    "        return (posscore, negscore, 0)\n",
    "    else:\n",
    "        return (posscore, negscore,2)   "
   ]
  },
  {
   "cell_type": "code",
   "execution_count": 38,
   "id": "63194972",
   "metadata": {},
   "outputs": [],
   "source": [
    "y_pred=[gestemotic(dataReader[\"text\"][i],Emotpos,Emotneg)[2] for i in range(n)]\n",
    "y_pred = pd.Series(y_pred)\n",
    "y_true=dataReader[\"Polarite\"]"
   ]
  },
  {
   "cell_type": "code",
   "execution_count": 39,
   "id": "c60f2f95",
   "metadata": {},
   "outputs": [
    {
     "data": {
      "text/plain": [
       "285"
      ]
     },
     "execution_count": 39,
     "metadata": {},
     "output_type": "execute_result"
    }
   ],
   "source": [
    "# Nombre de tweets correctement classifiés\n",
    "(y_true.values == y_pred.values).sum()"
   ]
  },
  {
   "cell_type": "code",
   "execution_count": 40,
   "id": "b44c42f4",
   "metadata": {},
   "outputs": [
    {
     "data": {
      "text/plain": [
       "57.22891566265061"
      ]
     },
     "execution_count": 40,
     "metadata": {},
     "output_type": "execute_result"
    }
   ],
   "source": [
    "# Accuracy\n",
    "((y_true.values == y_pred.values).sum()/n )*100"
   ]
  },
  {
   "cell_type": "code",
   "execution_count": 41,
   "id": "3ac6ace3",
   "metadata": {},
   "outputs": [
    {
     "data": {
      "image/png": "[encoded data removed]",
      "text/plain": [
       "<Figure size 576x432 with 2 Axes>"
      ]
     },
     "metadata": {
      "needs_background": "light"
     },
     "output_type": "display_data"
    }
   ],
   "source": [
    "fig, ax = plt.subplots(1,1, figsize = (8,6))\n",
    "ConfusionMatrixDisplay(confusion_matrix(y_true, y_pred)).plot(ax = ax)\n",
    "ax.xaxis.set_ticklabels(['0', '2', '4'])\n",
    "ax.yaxis.set_ticklabels(['0', '2', '4'])\n",
    "#plt.title()\n",
    "plt.show()"
   ]
  },
  {
   "cell_type": "code",
   "execution_count": 40,
   "id": "cb2b4802",
   "metadata": {},
   "outputs": [
    {
     "name": "stdout",
     "output_type": "stream",
     "text": [
      "Sur un total de 182 tweets positifs, 138 ont été correctement prédits\n",
      "Sur un total de 139 tweets neutres, 86 ont été correctement prédits\n",
      "Sur un total de 177 tweets négatifs, 61 ont été correctement prédits\n"
     ]
    }
   ],
   "source": [
    "print(f\"Sur un total de 182 tweets positifs, 138 ont été correctement prédits\")\n",
    "print(f\"Sur un total de 139 tweets neutres, 86 ont été correctement prédits\")\n",
    "print(f\"Sur un total de 177 tweets négatifs, 61 ont été correctement prédits\")"
   ]
  },
  {
   "cell_type": "code",
   "execution_count": 41,
   "id": "8f0a2698",
   "metadata": {},
   "outputs": [
    {
     "name": "stdout",
     "output_type": "stream",
     "text": [
      "le nombre d'émoticones dans le corpus est de 59\n"
     ]
    }
   ],
   "source": [
    "Taggedtweets = [preProcessedTweets(dataReader[\"text\"][i])[1] for i in range(n)]\n",
    "\n",
    "Nb_emot=0\n",
    "for tagtweet in Taggedtweets:\n",
    "    for tagword in tagtweet:\n",
    "        if tagword in list(Emoticone[\"icone\"].values):\n",
    "            Nb_emot +=1\n",
    "print(f\"le nombre d'émoticones dans le corpus est de {Nb_emot}\")"
   ]
  },
  {
   "cell_type": "markdown",
   "id": "ac50b923",
   "metadata": {},
   "source": [
    "<h1><center> 3.7.  Algorithme de détection : ma version vs Vader </center></h1>"
   ]
  },
  {
   "cell_type": "code",
   "execution_count": 42,
   "id": "7e5cc3cc",
   "metadata": {},
   "outputs": [],
   "source": [
    "from nltk.sentiment.vader import SentimentIntensityAnalyzer\n",
    "def sentimentScore(sentences):\n",
    "    sia = SentimentIntensityAnalyzer()\n",
    "    Results=pd.DataFrame()\n",
    "    for sentence in sentences:\n",
    "        result = sia.polarity_scores(sentence)\n",
    "        result = pd.DataFrame([result])\n",
    "        Results=pd.concat([Results,result],axis=0)\n",
    "    return Results"
   ]
  },
  {
   "cell_type": "code",
   "execution_count": 43,
   "id": "c43cc999",
   "metadata": {},
   "outputs": [
    {
     "data": {
      "text/plain": [
       "['@stellargirl I loooooooovvvvvveee my Kindle2. Not that the DX is cool, but the 2 is fantastic in its own right.',\n",
       " 'Reading my kindle2...  Love it... Lee childs is good read.',\n",
       " 'Ok, first assesment of the #kindle2 ...it fucking rocks!!!',\n",
       " \"@kenburbary You'll love your Kindle2. I've had mine for a few months and never looked back. The new big one is huge! No need for remorse! :)\",\n",
       " \"@mikefish  Fair enough. But i have the Kindle2 and I think it's perfect  :)\",\n",
       " \"@richardebaker no. it is too big. I'm quite happy with the Kindle2.\",\n",
       " 'Fuck this economy. I hate aig and their non loan given asses.',\n",
       " 'Jquery is my new best friend.',\n",
       " 'Loves twitter',\n",
       " 'how can you not love Obama? he makes jokes about himself.',\n",
       " \"Check this video out -- President Obama at the White House Correspondents' Dinner http://bit.ly/IMXUM\",\n",
       " \"@Karoli I firmly believe that Obama/Pelosi have ZERO desire to be civil.  It's a charade and a slogan, but they want to destroy conservatism\",\n",
       " 'House Correspondents dinner was last night whoopi, barbara &amp; sherri went, Obama got a standing ovation',\n",
       " 'Watchin Espn..Jus seen this new Nike Commerical with a Puppet Lebron..sh*t was hilarious...LMAO!!!',\n",
       " 'dear nike, stop with the flywire. that shit is a waste of science. and ugly. love, @vincentx24x',\n",
       " \"#lebron best athlete of our generation, if not all time (basketball related) I don't want to get into inter-sport debates about   __1/2\",\n",
       " 'I was talking to this guy last night and he was telling me that he is a die hard Spurs fan.  He also told me that he hates LeBron James.',\n",
       " 'i love lebron. http://bit.ly/PdHur',\n",
       " \"@ludajuice Lebron is a Beast, but I'm still cheering 4 the A..til the end.\",\n",
       " '@Pmillzz lebron IS THE BOSS',\n",
       " \"@sketchbug Lebron is a hometown hero to me, lol I love the Lakers but let's go Cavs, lol\",\n",
       " 'lebron and zydrunas are such an awesome duo',\n",
       " '@wordwhizkid Lebron is a beast... nobody in the NBA comes even close.',\n",
       " 'downloading apps for my iphone! So much fun :-) There literally is an app for just about anything.',\n",
       " 'good news, just had a call from the Visa office, saying everything is fine.....what a relief! I am sick of scams out there! Stealing!',\n",
       " 'http://twurl.nl/epkr4b - awesome come back from @biz (via @fredwilson)',\n",
       " 'In montreal for a long weekend of R&amp;R. Much needed.',\n",
       " 'Booz Allen Hamilton has a bad ass homegrown social collaboration platform. Way cool!  #ttiv',\n",
       " '[#MLUC09] Customer Innovation Award Winner: Booz Allen Hamilton -- http://ping.fm/c2hPP',\n",
       " '@SoChi2 I current use the Nikon D90 and love it, but not as much as the Canon 40D/50D. I chose the D90 for the  video feature. My mistake.',\n",
       " 'need suggestions for a good IR filter for my canon 40D ... got some? pls DM',\n",
       " '@surfit: I just checked my google for my business- blip shows up as the second entry! Huh. Is that a good or ba... ? http://blip.fm/~6emhv',\n",
       " \"@phyreman9 Google is always a good place to look. Should've mentioned I worked on the Mustang w/ my Dad, @KimbleT.\",\n",
       " 'Played with an android google phone. The slide out screen scares me I would break that fucker so fast. Still prefer my iPhone.',\n",
       " 'US planning to resume the military tribunals at Guantanamo Bay... only this time those on trial will be AIG execs and Chrysler debt holders',\n",
       " 'omg so bored &amp; my tattoooos are so itchy!!  help! aha =)',\n",
       " \"I'm itchy and miserable!\",\n",
       " \"@sekseemess no. I'm not itchy for now. Maybe later, lol.\",\n",
       " 'RT @jessverr I love the nerdy Stanford human biology videos - makes me miss school. http://bit.ly/13t7NR',\n",
       " '@spinuzzi: Has been a bit crazy, with steep learning curve, but LyX is really good for long docs. For anything shorter, it would be insane.',\n",
       " 'I\\'m listening to \"P.Y.T\" by Danny Gokey &lt;3 &lt;3 &lt;3 Aww, he\\'s so amazing. I &lt;3 him so much :)',\n",
       " 'is going to sleep then on a bike ride:]',\n",
       " 'cant sleep... my tooth is aching.',\n",
       " 'Blah, blah, blah same old same old. No plans today, going back to sleep I guess.',\n",
       " \"glad i didnt do Bay to Breakers today, it's 1000 freaking degrees in San Francisco wtf\",\n",
       " 'is in San Francisco at Bay to Breakers.',\n",
       " 'just landed at San Francisco',\n",
       " 'San Francisco today.  Any suggestions?',\n",
       " '?Obama Administration Must Stop Bonuses to AIG Ponzi Schemers ... http://bit.ly/2CUIg',\n",
       " 'started to think that Citi is in really deep s&amp;^t. Are they gonna survive the turmoil or are they gonna be the next AIG?',\n",
       " \"ShaunWoo hate'n on AiG\",\n",
       " '@YarnThing you will not regret going to see Star Trek. It was AWESOME!',\n",
       " 'On my way to see Star Trek @ The Esquire.',\n",
       " 'Going to see star trek soon with my dad.',\n",
       " 'annoying new trend on the internets:  people picking apart michael lewis and malcolm gladwell.  nobody wants to read that.',\n",
       " 'Bill Simmons in conversation with Malcolm Gladwell http://bit.ly/j9o50',\n",
       " 'Highly recommend: http://tinyurl.com/HowDavidBeatsGoliath by Malcolm Gladwell',\n",
       " 'Blink by malcolm gladwell amazing book and The tipping point!',\n",
       " 'Malcolm Gladwell might be my new man crush',\n",
       " 'omg. The commercials alone on ESPN are going to drive me nuts.',\n",
       " '@robmalon Playing with Twitter API sounds fun.  May need to take a class or find a new friend who like to generate results with API code.',\n",
       " 'playing with cURL and the Twitter API',\n",
       " 'Hello Twitter API ;)',\n",
       " 'playing with Java and the Twitter API',\n",
       " \"@morind45 Because the twitter api is slow and most client's aren't good.\",\n",
       " 'yahoo answers can be a butt sometimes',\n",
       " 'is scrapbooking with Nic =D',\n",
       " 'RT @mashable: Five Things Wolfram Alpha Does Better (And Vastly Different) Than Google - http://bit.ly/6nSnR',\n",
       " 'just changed my default pic to a Nike basketball cause bball is awesome!!!!!',\n",
       " 'Nike owns NBA Playoffs ads w/ LeBron, Kobe, Carmelo? http://ow.ly/7Uiy  #Adidas #Billups #Howard  #Marketing #Branding',\n",
       " \"'Next time, I'll call myself Nike'\",\n",
       " \"New blog post: Nike SB Dunk Low Premium 'White Gum' http://tr.im/lOtT\",\n",
       " 'RT @SmartChickPDX: Was just told that Nike layoffs started today :-(',\n",
       " 'Back when I worked for Nike we had one fav word : JUST DO IT! :)',\n",
       " \"By the way, I'm totally inspired by this freaky Nike commercial: http://snurl.com/icgj9\",\n",
       " 'giving weka an app engine interface, using the bird strike data for the tests, the logo is a given.',\n",
       " 'Brand New Canon EOS 50D 15MP DSLR Camera Canon 17-85mm IS Lens ...: Web Technology Thread, Brand New Canon EOS 5.. http://u.mavrev.com/5a3t',\n",
       " 'Class... The 50d is supposed to come today :)',\n",
       " 'needs someone to explain lambda calculus to him! :(',\n",
       " 'Took the Graduate Field Exam for Computer Science today.  Nothing makes you feel like more of an idiot than lambda calculus.',\n",
       " 'SHOUT OUTS TO ALL EAST PALO ALTO FOR BEING IN THE BUILDIN KARIZMAKAZE 50CAL GTA! ALSO THANKS TO PROFITS OF DOOM UNIVERSAL HEMPZ CRACKA......',\n",
       " \"@legalgeekery Yeahhhhhhhhh, I wouldn't really have lived in East Palo Alto if I could have avoided it.  I guess it's only for the summer.\",\n",
       " '@accannis @edog1203 Great Stanford course. Thanks for making it available to the public! Really helpful and informative for starting off!',\n",
       " \"NVIDIA Names Stanford's Bill Dally Chief Scientist, VP Of Research http://bit.ly/Fvvg9\",\n",
       " 'New blog post: Harvard Versus Stanford - Who Wins? http://bit.ly/MCoCo',\n",
       " '@ work til 6pm... lets go lakers!!!',\n",
       " 'Damn you North Korea. http://bit.ly/KtMeQ',\n",
       " 'Can we just go ahead and blow North Korea off the map already?',\n",
       " \"North Korea, please cease this douchebaggery. China doesn't even like you anymore. http://bit.ly/NeHSl\",\n",
       " 'Why the hell is Pelosi in freakin China? and on whose dime?',\n",
       " 'Are YOU burning more cash $$$ than Chrysler and GM? Stop the financial tsunami. Where \"bailout\" means taking a handout!',\n",
       " 'insects have infected my spinach plant :(',\n",
       " 'wish i could catch every mosquito in the world n burn em slowly.they been bitin the shit outta me 2day.mosquitos are the assholes of insects',\n",
       " 'just got back from church, and I totally hate insects.',\n",
       " \"Just got mcdonalds goddam those eggs make me sick. O yeah Laker up date go lakers. Not much of an update? Well it's true so suck it\",\n",
       " 'omgg i ohhdee want mcdonalds damn i wonder if its open lol =]',\n",
       " 'History exam studying ugh',\n",
       " \"I hate revision, it's so boring! I am totally unprepared for my exam tomorrow :( Things are not looking good...\",\n",
       " 'Higher physics exam tommorow, not lookin forward to it much :(',\n",
       " \"It's a bank holiday, yet I'm only out of work now. Exam season sucks:(\",\n",
       " 'Cheney and Bush are the real culprits - http://fwix.com/article/939496',\n",
       " 'Life?s a bitch? and so is Dick Cheney. #p2 #bipart #tlot #tcot #hhrs #GOP #DNC http://is.gd/DjyQ',\n",
       " \"Dick Cheney's dishonest speech about torture, terror, and Obama. -Fred Kaplan Slate. http://is.gd/DiHg\",\n",
       " '\"The Republican party is a bunch of anti-abortion zealots who couldn\\'t draw flies to a dump.\" -- Neal Boortz (just now, on the radio)',\n",
       " \"is Twitter's connections API broken? Some tweets didn't make it to Twitter...\",\n",
       " 'i srsly hate the stupid twitter API timeout thing, soooo annoying!!!!! :(',\n",
       " '@psychemedia I really liked @kswedberg\\'s \"Learning jQuery\" book. http://bit.ly/pg0lT is worth a look too',\n",
       " 'jQuery UI 1.6 Book Review - http://cfbloggers.org/?c=30631',\n",
       " 'Very Interesting Ad from Adobe by Goodby, Silverstein &amp; Partners - YouTube - Adobe CS4: Le Sens Propre http://bit.ly/VprpT',\n",
       " 'Goodby Silverstein agency new site! http://www.goodbysilverstein.com/ Great!',\n",
       " \"RT @designplay Goodby, Silverstein's new site: http://www.goodbysilverstein.com/ I enjoy it. *nice find!*\",\n",
       " 'The ever amazing Psyop and Goodby Silverstein &amp; Partners for HP! http://bit.ly/g2rU8 Have to go play with After Effects now!',\n",
       " 'top ten most watched on Viral-Video Chart.  Love the nike #mostvaluablepuppets campaign from Wieden &amp; Kennedy http://bit.ly/nR1n9',\n",
       " 'zomg!!! I have a G2!!!!!!!',\n",
       " 'Ok so lots of buzz from IO2009 but how lucky are they - a Free G2!! http://is.gd/Hyzl',\n",
       " 'just got a free G2 android at google i/o!!!',\n",
       " \"Guess I'll be retiring my G1 and start using my developer G2 woot #googleio\",\n",
       " 'At GWT fireside chat @googleio',\n",
       " 'I am happy for Philip being at GoogleIO today',\n",
       " 'Lakers played great!  Cannot wait for Thursday night Lakers vs. ???',\n",
       " 'Hi there, does anyone have a great source for advice on viral marketing?... http://link.gs/YtZ8',\n",
       " 'Judd Apatow creates fake sitcom on NBC.com to market his new movie... viral marketing at its best. http://is.gd/K0yK',\n",
       " \"Here's A case study on how to use viral marketing to add over 10,000 people to your list http://snipr.com/i50oz\",\n",
       " \"VIRAL MARKETING FAIL. This Acia Pills brand oughta get shut down for hacking into people's messenger's.  i get 5-6 msgs in a day! Arrrgh!\",\n",
       " 'watching Night at The Museum . Lmao',\n",
       " 'i loved night at the museum!!!',\n",
       " 'going to see the new night at the museum  movie with my family oh boy a three year old in the movies fuin',\n",
       " 'just got back from the movies.  went to see the new night at the museum with rachel.  it was good',\n",
       " 'Just saw the new Night at the Museum movie...it was...okay...lol 7\\\\10',\n",
       " 'Going to see night at the museum 2 with tall boy',\n",
       " '@shannyoday I will take you on a date to see night at the museum 2 whenever you want...it looks soooooo good',\n",
       " 'no watching The Night At The Museum. Getting Really Good',\n",
       " 'Night at the Museum, Wolverine and junk food - perfect monday!',\n",
       " 'saw night at the museum 2 last night.. pretty crazy movie.. but the cast was awesome so it was well worth it. Robin Williams forever!',\n",
       " 'I saw Night at the Museum: Battle of the Swithsonian today. It was okay. Your typical [kids] Ben Stiller movie.',\n",
       " 'Taking Katie to see Night at the Museum.  (she picked it)',\n",
       " 'Night at the Museum tonite instead of UP. :( oh well. that 4 yr old better enjoy it. LOL',\n",
       " 'GM says expects announcment on sale of Hummer soon - Reuters: WDSUGM says expects announcment on sale of Hummer .. http://bit.ly/4E1Fv',\n",
       " \"It's unfortunate that after the Stimulus plan was put in place twice to help GM on the back of the American people has led to the inevitable\",\n",
       " 'Tell me again why we are giving more $$ to GM?? We should use that $ for all the programs that support the unemployed.',\n",
       " '@jdreiss oh yes but if GM dies it will only be worth more boo hahaha',\n",
       " 'Time Warner cable is down again 3rd time since Memorial Day bummer!',\n",
       " 'I would rather pay reasonable yearly taxes for \"free\" fast internet, than get gouged by Time Warner for a slow connection.',\n",
       " 'NOOOOOOO my DVR just died and I was only half way through the EA presser. Hate you Time Warner',\n",
       " 'F*ck Time Warner Cable!!! You f*cking suck balls!!! I have a $700 HD tv &amp; my damn HD channels hardly ever come in. Bullshit!!',\n",
       " 'time warner has the worse customer service ever. I will never use them again',\n",
       " 'Time warner is the devil. Worst possible time for the Internet to go out.',\n",
       " 'Fuck no internet damn time warner!',\n",
       " 'time warner really picks the worst time to not work. all i want to do is get to mtv.com so i can watch the hills. wtfffff.',\n",
       " 'I hate Time Warner! Soooo wish I had Vios. Cant watch the fricken Mets game w/o buffering. I feel like im watching free internet porn.',\n",
       " 'Ahh...got rid of stupid time warner today &amp; now taking a nap while the roomies cook for me. Pretty good end for a monday :)',\n",
       " \"Time Warner's HD line up is crap.\",\n",
       " 'is being fucked by time warner cable. didnt know modems could explode. and Susan Boyle sucks too!',\n",
       " \"Time Warner Cable Pulls the Plug on 'The Girlfriend Experience' - (www.tinyurl.com/m595fk)\",\n",
       " 'Time Warner Cable slogan: Where calling it a day at 2pm Happens.',\n",
       " 'Rocawear Heads to China, Building 300 Stores  - http://tinyurl.com/nofet3',\n",
       " 'Climate focus turns to Beijing: The United Nations, the US and European governments have called on China to co-o.. http://tinyurl.com/lto92n',\n",
       " \"myfoxdc Barrie Students Back from Trip to China: A Silver Spring high school's class trip to China has en.. http://tinyurl.com/nlhqba\",\n",
       " 'Three China aerospace giants develop Tianjin Binhai  New Area,  22.9 B yuan invested   http://bit.ly/mMiDv',\n",
       " 'http://xi.gs/04FO GM CEO: China will continue to be key partner',\n",
       " 'RT @LATimesautos is now the time to buy a GM car? http://bit.ly/nRzlu',\n",
       " 'Recovering from surgery..wishing @julesrenner was here :(',\n",
       " 'My wrist still hurts. I have to get it looked at. I HATE the dr/dentist/scary places. :( Time to watch Eagle eye. If you want to join, txt!',\n",
       " 'Dentist tomorrow. Have to brush well in the morning. Like I make my hair all nice before I get it cut. Why?',\n",
       " 'THE DENTIST LIED! \" U WON\\'T FEEL ANY DISCOMORT! PROB WON\\'T EVEN NEED PAIN PILLS\" MAN U TWIPPIN THIS SHIT HURT!! HOW MANY PILLS CAN I TAKE!!',\n",
       " \"@kirstiealley my dentist is great but she's expensive...=(\",\n",
       " '@kirstiealley Pet Dentist http://www.funnyville.com/fv/pictures/dogdentures.shtml',\n",
       " 'is studing math ;) tomorrow exam and dentist :)',\n",
       " 'my dentist was wrong... WRONG',\n",
       " 'Going to the dentist later.:|',\n",
       " 'Son has me looking at cars online.  I hate car shopping.  Would rather go to the dentist!  Anyone with a good car at a good price to sell?',\n",
       " 'NCAA Baseball Super Regional - Rams Club http://bit.ly/Ro7nx',\n",
       " 'just started playing Major League Baseball 2K9. http://raptr.com/H3LLGWAR',\n",
       " 'Cardinals baseball advance to Super Regionals. Face CS-Fullerton Friday.',\n",
       " 'Sony coupon code.. Expires soon.. http://www.coupondork.com/r/1796',\n",
       " 'waiting in line at safeway.',\n",
       " 'luke and i got stopped walking out of safeway and asked to empty our pockets and lift our shirts. how jacked up is that?',\n",
       " 'Did not realize there is a gym above Safeway!',\n",
       " '@XPhile1908 I have three words for you: \"Safeway dot com\"',\n",
       " 'Safeway is very rock n roll tonight',\n",
       " 'Bout to hit safeway I gotta eat',\n",
       " \"Jake's going to safeway!\",\n",
       " 'Found a safeway. Picking up a few staples.',\n",
       " 'Safeway Super-marketing via mobile coupons http://bit.ly/ONH7w',\n",
       " 'The safeway bathroom still smells like ass!',\n",
       " \"At safeway on elkhorn, they move like they're dead!\",\n",
       " 'Your Normal Weight (and How to Get There) ? Normal Eating Blog http://bit.ly/ZeT8O',\n",
       " 'Is Eating and Watching Movies....',\n",
       " 'eating sashimi',\n",
       " 'is eating  home made yema',\n",
       " 'eating cake',\n",
       " \"i love Dwight Howard's vitamin water commercial... now i wish he was with NIKE and not adidas. lol.\",\n",
       " 'Found NOTHING at Nike Factory :/ Off to Banana Republic Outlet! http://myloc.me/2zic',\n",
       " 'iPhone May Get Radio Tagging and Nike  : Recently-released iTunes version 8.2 suggests that VoiceOver functional.. http://tinyurl.com/oq5ctc',\n",
       " \"is lovin his Nike  already and that's only from running on the spot in his bedroom\",\n",
       " 'Launched! http://imgsearch.net  #imgsearch #ajax #jquery #webapp',\n",
       " '@matthewcyan I finally got around to using jquery to make my bio collapse. Yay for slide animations.',\n",
       " 'RT @jquery: The Ultimate jQuery List - http://jquerylist.com/',\n",
       " 'I just extracted and open-sourced a jQuery plugin from Stormweight to highlight text with a regular expression: http://bit.ly/ybJKb',\n",
       " '@anna_debenham what was the php jquery hack?',\n",
       " 'jQuery Cheat Sheet http://www.javascripttoolbox.com/jquery/cheatsheet/',\n",
       " 'Beginning JavaScript and CSS Development with jQuery #javascript #css #jquery http://bit.ly/TO3e5',\n",
       " \"@PDubyaD right!!! LOL we'll get there!! I have high expectations, Warren Buffet style.\",\n",
       " 'RT @blknprecious1: RT GREAT @dbroos \"Someone\\'s sitting in the shade today because someone planted a tree a long time ago.\"- Warren Buffet',\n",
       " 'Warren Buffet on the economy http://ping.fm/Lau0p',\n",
       " 'Warren Buffet became (for a time) the richest man in the United States, not by working but investing in 1 Big idea which lead to the fortune',\n",
       " 'According to the create a school, Notre Dame will have 7 receivers in NCAA 10 at 84 or higher rating :) *sweet*',\n",
       " \"All-Star Basketball Classic Tuesday Features Top Talent: Chattanooga's Notre Dame High School will play host.. http://bit.ly/qltJA\",\n",
       " \"@BlondeBroad it's definitely under warranty &amp; my experience is the amazon support for kindle is great! had to contact them about my kindle2\",\n",
       " 'RT Look, Available !Amazon Kindle2 &amp; Kindle DX, Get it Here: http://short.to/87ub The Top Electronic Book Reader Period, free 2 day ship ...',\n",
       " \"Time Warner Road Runner customer support here absolutely blows. I hate not having other high-speed net options. I'm ready to go nuclear.\",\n",
       " 'Time Warner cable phone reps r dumber than nails!!!!! UGH! Cable was working 10 mins ago now its not WTF!',\n",
       " \"@siratomofbones we tried but Time Warner wasn't being nice so we recorded today. :)\",\n",
       " \"OMG - time warner f'ed up my internet install - instead of today  its now NEXT saturday - another week w/o internet! &amp;$*ehfa^V9fhg[*# fml.\",\n",
       " 'wth..i have never seen a line this loooong at time warner before, ugh.',\n",
       " \"Impatiently awaiting the arrival of the time warner guy. It's way too pretty to be inside all afternoon\",\n",
       " 'Man accosts Roger Federer during French Open http://ff.im/3HCPT',\n",
       " 'Naive Bayes using EM for Text Classification. Really Frustrating...',\n",
       " \"We went to Stanford University today. Got a tour. Made me want to go back to college. It's also decided all of our kids will go there.\",\n",
       " 'Investigation pending on death of Stanford CS prof / Google mentor Rajeev Motwani http://bit.ly/LwOUR tip @techmeme',\n",
       " \"I'm going to bed. It was a successful weekend. Stanford, here I come.\",\n",
       " \"@KarrisFoxy If you're being harassed by calls about your car warranty, changing your number won't fix that. They call every number. #d-bags\",\n",
       " 'Just blocked United Blood Services using Google Voice. They call more than those Car Warranty guys.',\n",
       " '#at&amp;t is complete fail.',\n",
       " \"@broskiii OH SNAP YOU WORK AT AT&amp;T DON'T YOU\",\n",
       " '@Mbjthegreat i really dont want AT&amp;T phone service..they suck when it comes to having a signal',\n",
       " \"I say we just cut out the small talk: AT&amp;T's new slogan: F__k you, give us your money. (Apologies to Bob Geldof.)\",\n",
       " \"pissed about at&amp;t's mid-contract upgrade price for the iPhone (it's $200 more) I'm not going to pay $499 for something I thought was $299\",\n",
       " 'Safari 4 is fast :) Even on my shitty AT&amp;T tethering.',\n",
       " '@ims What is AT&amp;T fucking up?',\n",
       " \"@springsingfiend @dvyers @sethdaggett @jlshack AT&amp;T dropped the ball and isn't supporting crap with the new iPhone 3.0... FAIL #att SUCKS!!!\",\n",
       " '@MMBarnhill yay, glad you got the phone! Still, damn you, AT&amp;T.',\n",
       " 'Google Wave Developer Sandbox Account Request http://bit.ly/2NYlc',\n",
       " 'Talk is Cheap: Bing that, I?ll stick with Google. http://bit.ly/XC3C8',\n",
       " '@defsounds WTF is the point of deleting tweets if they can still be found in summize and searches? Twitter, please fix that. Thanks and bye',\n",
       " '@mattcutts have google profiles stopped showing up in searches? cant see them anymore',\n",
       " '@ArunBasilLal I love Google Translator too ! :D Good day mate !',\n",
       " 'reading on my new Kindle2!',\n",
       " 'My Kindle2 came and I LOVE it! :)',\n",
       " 'LOVING my new Kindle2.  Named her Kendra in case u were wondering. The \"cookbook\" is THE tool cuz it tells u all the tricks!  Best gift EVR!',\n",
       " 'The real AIG scandal / http://bit.ly/b82Px',\n",
       " 'Any twitter to aprs apps yet?',\n",
       " '45 Pros You Should Be Following on Twitter - http://is.gd/sMbZ',\n",
       " 'Obama is quite a good comedian! check out his dinner speech on CNN :) very funny jokes.',\n",
       " '\\' Barack Obama shows his funny side \" &gt;&gt; http://tr.im/l0gY !! Great speech..',\n",
       " 'I like this guy : \\' Barack Obama shows his funny side \" &gt;&gt; http://tr.im/l0gY !!',\n",
       " \"Obama's speech was pretty awesome last night! http://bit.ly/IMXUM\",\n",
       " 'Reading  \"Bill Clinton Fail - Obama Win?\" http://tinyurl.com/pcyxj7',\n",
       " \"Obama More Popular Than U.S. Among Arabs: Survey: President Barack Obama's popularity in leading Arab countries .. http://tinyurl.com/prlvqu\",\n",
       " \"Obama's got JOKES!! haha just got to watch a bit of his after dinner speech from last night... i'm in love with mr. president ;)\",\n",
       " 'LEbron james got in a car accident i guess..just heard it on evening news...wow i cant believe it..will he be ok ? http://twtad.com/69750',\n",
       " 'is it me or is this the best the playoffs have been in years oh yea lebron and melo in the finals',\n",
       " '@khalid0456 No, Lebron is the best',\n",
       " '@the_real_usher LeBron is cool.  I like his personality...he has good character.',\n",
       " 'Watching Lebron highlights. Damn that niggas good',\n",
       " '@Lou911 Lebron is MURDERING shit.',\n",
       " \"@uscsports21 LeBron is a monsta and he is only 24. SMH The world ain't ready.\",\n",
       " \"@cthagod when Lebron is done in the NBA he will probably be greater than Kobe. Like u said Kobe is good but there alot of 'good' players.\",\n",
       " 'KOBE IS GOOD BT LEBRON HAS MY VOTE',\n",
       " 'Kobe is the best in the world not lebron .',\n",
       " \"@asherroth World Cup 2010 Access?? Damn, that's a good look!\",\n",
       " 'Just bought my tickets for the 2010 FIFA World Cup in South Africa. Its going to be a great summer. http://bit.ly/9GEZI',\n",
       " \"Share: Disruption...Fred Wilson's slides for his talk at Google HQ  http://bit.ly/Bo8PG\",\n",
       " 'I have to go to Booz Allen Hamilton for a 2hr meeting :(  But then i get to go home :)',\n",
       " 'The great Indian tamasha truly will unfold from May 16, the result day for Indian General Election.',\n",
       " \"@crlane I have the Kindle2. I've seen pictures of the DX, but haven't seen it in person. I love my Kindle - I'm on it everyday.\",\n",
       " '@criticalpath Such an awesome idea - the  continual learning program with a Kindle2  http://bit.ly/1ZLfF',\n",
       " 'ok.. do nothing.. just thinking about 40D',\n",
       " '@faithbabywear Ooooh, what model are you getting??? I have the 40D and LOVE LOVE LOVE LOVE it!',\n",
       " \"The Times of India: The wonder that is India's election. http://bit.ly/p7u1H\",\n",
       " 'http://is.gd/ArUJ Good video from Google on using search options.',\n",
       " '@ambcharlesfield lol. Ah my skin is itchy :( damn lawnmowing.',\n",
       " 'itchy back!! dont ya hate it!',\n",
       " 'Stanford Charity Fashion Show a top draw http://cli.gs/NeNuAH',\n",
       " 'Stanford University?s Facebook Profile is One of the Most Popular Official University Pages - http://tinyurl.com/p5b3fl',\n",
       " 'Lyx is cool.',\n",
       " 'SOOO DISSAPOiNTED THEY SENT DANNY GOKEY HOME... YOU STiLL ROCK ...DANNY ... MY HOMETOWN HERO !! YEAH MiLROCKEE!!',\n",
       " \"RT @PassionModel 'American Idol' fashion: Adam Lambert tones down, Danny Gokey cute ... http://cli.gs/7JWSHV\",\n",
       " '@dannygokey I love you DANNY GOKEY!! :)',\n",
       " 'RT @justindavey: RT @tweetmeme GM OnStar now instantly sends accident location coordinates to 911 | GPS Obsessed http://bit.ly/16szL1',\n",
       " \"so tired. i didn't sleep well at all last night.\",\n",
       " 'Boarding plane for San Francisco in 1 hour; 6 hr flight. Blech.',\n",
       " 'bonjour San Francisco. My back hurts from last night..',\n",
       " 'breakers. in San Francisco, CA http://loopt.us/4v88Bw.t',\n",
       " 'Heading to San Francisco',\n",
       " 'With my best girl for a few more hours in San francisco. Mmmmmfamily is wonderful!',\n",
       " 'F*** up big, or go home - AIG',\n",
       " 'Went to see the Star Trek movie last night.  Very satisfying.',\n",
       " \"I can't wait, going to see star trek tonight!!\",\n",
       " 'Star Trek was as good as everyone said!!',\n",
       " 'am loving new malcolm gladwell book - outliers',\n",
       " \"I highly recommend Malcolm Gladwell's 'The Tipping Point.' My next audiobook will probably be one of his as well.\",\n",
       " \"Malcolm Gladwell is a genius at tricking people into not realizing he's a fucking idiot\",\n",
       " '@sportsguy33 hey no offense but malcolm gladwell is a pretenious, annoying cunt and he brings you down. cant read his shit',\n",
       " 'RT @clashmore: http://bit.ly/SOYv7  Great article by Malcolm Gladwell.',\n",
       " 'I seriously underestimated Malcolm Gladwell.  I want to meet this dude.',\n",
       " 'i hate comcast right now. everything is down cable internet &amp; phone....ughh what am i to do',\n",
       " 'Comcast sucks.',\n",
       " 'The day I never have to deal with Comcast again will rank as one of the best days of my life.',\n",
       " '@Dommm did comcast fail again??',\n",
       " 'How do you use the twitter API?... http://bit.ly/4VBhH',\n",
       " 'curses the Twitter API limit',\n",
       " 'Now I can see why Dave Winer screams about lack of Twitter API, its limitations and access throttles!',\n",
       " 'testing Twitter API',\n",
       " 'Arg. Twitter API is making me crazy.',\n",
       " 'Testing Twitter API. Remote Update',\n",
       " \"I'm really loving the new search site Wolfram/Alpha. Makes Google seem so ... quaint. http://www72.wolframalpha.com/\",\n",
       " '#wolfram Alpha SUCKS! Even for researchers the information provided is less than you can get from #google or #wikipedia, totally useless!',\n",
       " 'Off to the NIKE factory!!!',\n",
       " 'New nike muppet commercials are pretty cute. Why do we live together again?',\n",
       " 'New blog post: Nike Zoom LeBron Soldier 3 (III) - White / Black - Teal http://bit.ly/rouUS',\n",
       " 'New blog post: Nike Trainer 1 http://bit.ly/394bp',\n",
       " \"@Fraggle312 oh those are awesome! i so wish they weren't owned by nike :(\",\n",
       " \"@tonyhawk http://twitpic.com/5c7uj - AWESOME!!! Seeing the show Friday at the Shoreline Amphitheatre. Never seen NIN before. Can't wait. ...\",\n",
       " 'arhh, It\\'s weka bug. = =\" and I spent almost two hours to find that out. crappy me',\n",
       " \"@mitzs hey bud :) np I do so love my 50D, although I'd love a 5D mkII more\",\n",
       " '@jonduenas @robynlyn just got us a 50D for the office. :D',\n",
       " \"Just picked up my new Canon 50D...it's beautiful!!  Prepare for some seriously awesome photography!\",\n",
       " 'Just got my new toy. Canon 50D. Love love love it!',\n",
       " 'Learning about lambda calculus :)',\n",
       " '#jobs #sittercity Help with taking care of sick child (East Palo Alto, CA) http://tinyurl.com/qwrr2m',\n",
       " \"I'm moving to East Palo Alto!\",\n",
       " '@ atebits I just finished watching your Stanford iPhone Class session. I really appreciate it. You Rock!',\n",
       " '@jktweet Hi! Just saw your Stanford talk and really liked your advice. Just saying Hi from Singapore (yes the videos do get around)',\n",
       " '#MBA Admissions Tips Stanford GSB Deadlines and Essay Topics 2009-2010 http://tinyurl.com/pet4fd',\n",
       " 'Ethics and nonprofits - http://bit.ly/qsXRp  #stanford #socialentrepreneurship',\n",
       " \"LAKERS tonight let's go!!!!\",\n",
       " 'Will the Lakers kick the Nuggets ass tonight?',\n",
       " 'Oooooooh... North Korea is in troubleeeee! http://bit.ly/19epAH',\n",
       " 'Wat the heck is North Korea doing!!??!! They just conducted powerful nuclear tests! Follow the link: http://www.msnbc.msn.com/id/30921379',\n",
       " 'Listening to Obama... Friggin North Korea...',\n",
       " 'I just realized we three monkeys in the white Obama.Biden,Pelosi . Sarah Palin 2012',\n",
       " '@foxnews Pelosi should stay in China and never come back.',\n",
       " \"Nancy Pelosi gave the worst commencement speech I've ever heard. Yes I'm still bitter about this\",\n",
       " 'ugh. the amount of times these stupid insects have bitten me. Grr..',\n",
       " 'Prettiest insects EVER - Pink Katydids: http://bit.ly/2Upw2p',\n",
       " 'Just got barraged by a horde of insects hungry for my kitchen light. So scary.',\n",
       " 'Just had McDonalds for dinner. :D It was goooood. Big Mac Meal. ;)',\n",
       " 'AHH YES LOL IMA TELL MY HUBBY TO GO GET ME SUM MCDONALDS =]',\n",
       " 'Stopped to have lunch at McDonalds. Chicken Nuggetssss! :) yummmmmy.',\n",
       " 'Could go for a lot of McDonalds. i mean A LOT.',\n",
       " 'my exam went good. @HelloLeonie: your prayers worked (:',\n",
       " 'Only one exam left, and i am so happy for it :D',\n",
       " 'Math review. Im going to fail the exam.',\n",
       " 'Colin Powell rocked yesterday on CBS. Cheney needs to shut the hell up and go home.Powell is a man of Honor and served our country proudly',\n",
       " 'obviously not siding with Cheney here: http://bit.ly/19j2d',\n",
       " 'Absolutely hilarious!!! from @mashable:  http://bit.ly/bccWt',\n",
       " '@mashable I never did thank you for including me in your Top 100 Twitter Authors! You Rock! (&amp; I New Wave :-D) http://bit.ly/EOrFV',\n",
       " 'Learning jQuery 1.3 Book Review - http://cfbloggers.org/?c=30629',\n",
       " 'RT @shrop: Awesome JQuery reference book for Coda! http://www.macpeeps.com/coda/ #webdesign',\n",
       " \"I've been sending e-mails like crazy today to my contacts...does anyone have a contact at Goodby SIlverstein...I'd love to speak to them\",\n",
       " 'Adobe CS4 commercial by Goodby Silverstein: http://bit.ly/1aikhF',\n",
       " \"Goodby, Silverstein's new site... http://www.goodbysilverstein.com/ I enjoy it.\",\n",
       " \"Wow everyone at the Google I/O conference got free G2's with a month of unlimited service\",\n",
       " '@vkerkez dood I got a free google android phone at the I/O conference. The G2!',\n",
       " '@Orli the G2 is amazing btw, a HUGE improvement over the G1',\n",
       " \"HTML 5 Demos! Lots of great stuff to come! Yes, I'm excited. :) http://htmlfive.appspot.com #io2009 #googleio\",\n",
       " '@googleio http://twitpic.com/62shi - Yay! Happy place! Place place!  I love Google!',\n",
       " '#GoogleIO | O3D - Bringing 3d graphics to the browser. Very nice tbh. Funfun.',\n",
       " 'Awesome viral marketing for \"Funny People\" http://www.nbc.com/yo-teach/',\n",
       " 'Watching a programme about the life of Hitler, its only enhancing my geekiness of history.',\n",
       " 'saw night at the museum out of sheer desperation. who is funding these movies?',\n",
       " 'Night At The Museum 2? Pretty furkin good.',\n",
       " 'Watching Night at the Museum - giggling.',\n",
       " '@pambeeslyjenna Jenna, I went to see Night At The Museum 2 today and I was so surprised to see three cast members from The Office...',\n",
       " 'About to watch Night at the Museum with Ryan and Stacy',\n",
       " 'Getting ready to go watch Night at the Museum 2.  Dum dum, you give me gum gum!',\n",
       " \"Back from seeing 'Star Trek' and 'Night at the Museum.' 'Star Trek' was amazing, but 'Night at the Museum' was; eh.\",\n",
       " 'just watched night at the museum 2! so stinkin cute!',\n",
       " \"So, Night at the Museum 2 was AWESOME! Much better than part 1. Next weekend we'll see Up.\",\n",
       " 'I think I may have a new favorite restaurant. On our way to see \"Night at the Museum 2\".',\n",
       " \"UP! was sold out, so i'm seeing Night At The Museum 2. I'm __ years old.\",\n",
       " 'saw the new Night at the Museum and i loved it. Next is to go see UP in 3D',\n",
       " 'It is a shame about GM. What if they are forced to make only cars the White House THINKS will sell? What do you think?',\n",
       " 'As u may have noticed, not too happy about the GM situation, nor AIG, Lehman, et al',\n",
       " 'Obama: Nationalization of GM to be short-term   (AP) http://tinyurl.com/md347r',\n",
       " '@Pittstock $GM good riddance.  sad though.',\n",
       " 'I Will NEVER Buy a Government Motors Vehicle: Until just recently, I drove GM cars. Since 1988, when I bought a .. http://tinyurl.com/lulsw8',\n",
       " 'Having the old Coca-Cola guy on the GM board is stupid has heck! #tcot #ala',\n",
       " '#RantsAndRaves The worst thing about GM (concord / pleasant hill / martinez): is the fucking UAW. ..   http://buzzup.com/4ueb',\n",
       " 'Give a man a fish, u feed him for the day. Teach him to fish, u feed him for life. Buy him GM, and u F**K him over for good.',\n",
       " 'The more I hear about this GM thing the more angry I get. Billions wasted, more bullshit. All for something like 40k employees and all the..',\n",
       " '@QuantTrader i own a GM car and it is junk as far as quality compared to a honda',\n",
       " 'sad day...bankrupt GM',\n",
       " 'is upset about the whole GM thing. life as i know it is so screwed up',\n",
       " 'whoever is running time warner needs to be repeatedly raped by a rhino so they understand the consequences of putting out shitty cable svcs',\n",
       " 'Time Warner CEO hints at online fees for magazines      (AP) - Read from Mountain View,United States. Views 16209 http://bit.ly/UdFCH',\n",
       " '#WFTB Joining a bit late. My connection was down (boo time warner)',\n",
       " 'Cox or Time Warner?  Cox is cheaper and gets a B on dslreports.  TW is more expensive and gets a C.',\n",
       " 'i am furious with time warner and their phone promotions!',\n",
       " 'Just got home from chick-fil-a with the boys. Damn my internets down =( stupid time warner',\n",
       " 'could time-warner cable suck more?  NO.',\n",
       " 'Pissed at Time Warner for causin me to have slow internet problems',\n",
       " '@sportsguy33 Ummm, having some Time Warner problems?',\n",
       " 'You guys see this?  Why does Time Warner have to suck so much ass?  Really wish I could get U-Verse at my apartment. http://bit.ly/s594j',\n",
       " \"RT @sportsguy33 The upside to Time Warner: unhelpful phone operators   superslow on-site service. Crap, that's not an upside.\",\n",
       " 'RT @sportsguy33: New Time Warner slogan: \"Time Warner, where we make you long for the days before cable.\"',\n",
       " \"confirmed: it's Time Warner's fault, not Facebook's, that fb is taking about 3 minutes to load. so tempted to switch to verizon =/\",\n",
       " '@sportsguy33 Time Warner = epic fail',\n",
       " 'Lawson to head Newedge Hong Kong http://bit.ly/xLQSD #business #china',\n",
       " 'Weird Piano Guitar House in China! http://u2s.me/72i8',\n",
       " 'Send us your GM/Chevy photos http://tinyurl.com/luzkpq',\n",
       " \"I know. How sad is that?  RT @caseymercier: 1st day of hurricane season. That's less scarey than govt taking over GM.\",\n",
       " 'GM files Bankruptcy, not a good sign...',\n",
       " 'yankees won mets lost. its a good day.',\n",
       " 'My dentist appt today was actually quite enjoyable.',\n",
       " 'I hate the effing dentist.',\n",
       " '@stevemoakler i had a dentist appt this morning and had the same conversation!',\n",
       " '@kirstiealley I hate going to the dentist.. !!!',\n",
       " 'i hate the dentist....who invented them anyways?',\n",
       " \"this dentist's office is cold :/\",\n",
       " 'Check this video out -- David After Dentist http://bit.ly/47aW2',\n",
       " 'First dentist appointment [in years] on Wednesday possibly.',\n",
       " \"Tom Shanahan's latest column on SDSU and its NCAA Baseball Regional appearance: http://ow.ly/axhu\",\n",
       " 'BaseballAmerica.com: Blog: Baseball America Prospects Blog ? Blog ... http://bit.ly/EtT8a',\n",
       " 'Portland city politics may undo baseball park http://tinyurl.com/lpjquj',\n",
       " \"RT @WaterSISWEB: CA Merced's water bottled by Safeway, resold at a profit: Wells are drying up across the county http://tinyurl.com/mb573s\",\n",
       " 'dropped her broccoli walking home from safeway! ;( so depressed',\n",
       " \"@ronjon we don't have Safeway.\",\n",
       " 'Just applied at Safeway!(: Yeeeee!',\n",
       " '@ Safeway. Place is a nightmare right now. Bumming.',\n",
       " 'at safeway with dad',\n",
       " 'HATE safeway select green tea icecream! bought two cartons, what a waste of money.  &gt;_&lt;',\n",
       " 'Safeway with Marvin, Janelle, and Auntie Lhu',\n",
       " 'Safeway offering mobile coupons http://bit.ly/ONH7w',\n",
       " 'Phillies Driving in the Cadillac with the Top Down in Cali, Win 5-3 - http://tinyurl.com/nzcjqa',\n",
       " 'Saved money by opting for grocery store trip and stocking food in hotel room fridge vs. eating out every night while out of town.',\n",
       " 'Lounging around, eating Taco Bell and watching NCIS before work tonight. Need help staying awake.',\n",
       " 'eating breakfast and then school',\n",
       " 'still hungry after eating....',\n",
       " '10 tips for healthy eating ? ResultsBy Fitness Blog :: Fitness ... http://bit.ly/62gFn',\n",
       " 'with the boyfriend, eating a quesadilla',\n",
       " 'Eating dinner. Meat, chips, and risotto.',\n",
       " 'got a new pair of nike shoes. pics up later',\n",
       " 'Nike SB Blazer High \"ACG\" Custom - Brad Douglas - http://timesurl.at/45a448',\n",
       " \"Nike rocks. I'm super grateful for what I've done with them :) &amp; the European Division of NIKE is BEYOND! @whitSTYLES @muchasmuertes\",\n",
       " 'Nike Air Yeezy Khaki/Pink Colorway Release - http://shar.es/bjfN',\n",
       " '@evelynbyrne have you tried Nike  ? V. addictive.',\n",
       " \"@erickoston That looks an awful lot like one of Nike's private jets....I'm just sayin....\",\n",
       " 'The Nike Training Club (beta) iPhone app looks very interesting.',\n",
       " \"argghhhh why won't  my jquery appear in safari bad safari !!!\",\n",
       " 'DevSnippets : jQuery Tools - Javascript UI Components for the Web... http://inblogs.org/go/hfuqt',\n",
       " 'all about Ajax,jquery ,css ,JavaScript and more... (many examples) http://ajaxian.com/',\n",
       " \"I'm ready to drop the pretenses, I am forever in love with jQuery, and I want to marry it. Sorry ladies, this nerd is jquery.spokenFor.js\",\n",
       " 'This is cold.. I was looking at google\\'s chart//visualization API and found this jQuery \"wrapper\" for the API...  http://tinyurl.com/mq52bq',\n",
       " 'I spent most of my day reading a jQuery book. Now to start drinking some delirium tremens.',\n",
       " 'jquery Selectors http://codylindley.com/jqueryselectors/',\n",
       " 'How to implement a news ticker with jQuery and ten lines of code http://bit.ly/CZnFJ',\n",
       " \"What's Buffet Doing? Warren Buffett Kicks Butt In Battle of the Boots: Posted By:Alex Crippe.. http://bit.ly/AUIzO\",\n",
       " 'SUPER INVESTORS: A great weekend read here from Warren Buffet. Oldie, but a goodie. http://tinyurl.com/oqxgga',\n",
       " \"I'm truly braindead.  I couldn't come up with Warren Buffet's name to save my soul\",\n",
       " \"reading Michael Palin book, The Python Years...great book. I also recommend Warren Buffet &amp; Nelson Mandela's bio\",\n",
       " \"I mean, I'm down with Notre Dame if I have to.  It's a good school, I'd be closer to Dan, I'd enjoy it.\",\n",
       " \"I can't watch TV without a Tivo.  And after all these years, the Time/Warner DVR  STILL sucks. http://www.davehitt.com/march03/twdvr.html\",\n",
       " \"I'd say some sports writers are idiots for saying Roger Federer is one of the best ever in Tennis.  Roger Federer is THE best ever in Tennis\",\n",
       " 'I still love my Kindle2 but reading The New York Times on it does not feel natural. I miss the Bloomingdale ads.',\n",
       " 'I love my Kindle2. No more stacks of books to trip over on the way to the loo.',\n",
       " \"Although today's keynote rocked, for every great announcement, AT&amp;T shit on us just a little bit more.\",\n",
       " \"@sheridanmarfil - its not so much my obsession with cell phones, but the iphone!  i'm a slave to at&amp;t forever because of it. :)\",\n",
       " '@freitasm oh I see. I thought AT&amp;T were 900MHz WCDMA?',\n",
       " '@Plip Where did you read about tethering support Phil?  Just AT&amp;T or will O2 be joining in?',\n",
       " 'Fuzzball is more fun than AT&amp;T ;P http://fuzz-ball.com/twitter',\n",
       " 'Today is a good day to dislike AT&amp;T. Vote out of office indeed, @danielpunkass',\n",
       " \"GOT MY WAVE SANDBOX INVITE! Extra excited! Too bad I have class now... but I'll play with it soon enough! #io2009 #wave\",\n",
       " 'looks like summize has gone down. too many tweets from WWDC perhaps?',\n",
       " 'I hope the girl at work  buys my Kindle2',\n",
       " \"Missed this insight-filled May column: One smart guy looking closely at why he's impressed with Kindle2 http://bit.ly/i0peY @wroush\",\n",
       " '@sklososky Thanks so much!!! ...from one of your *very* happy Kindle2 winners ; ) I was so surprised, fabulous. Thank you! Best, Kathleen',\n",
       " 'Man I kinda dislike Apple right now. Case in point: the iPhone 3GS. Wish there was a video recorder app. Please?? http://bit.ly/DZm1T',\n",
       " '@cwong08 I have a Kindle2 (&amp; Sony PRS-500). Like it! Physical device feels good. Font is nice. Pg turns are snappy enuf. UI a little klunky.',\n",
       " 'The #Kindle2 seems the best eReader, but will it work in the UK and where can I get one?',\n",
       " 'I have a google addiction. Thank you for pointing that out, @annamartin123. Hahaha.',\n",
       " '@ruby_gem My primary debit card is Visa Electron.',\n",
       " 'Off to the bank to get my new visa platinum card',\n",
       " \"dearest @google, you rich bastards! the VISA card you sent me doesn't work. why screw a little guy like me?\",\n",
       " 'has a date with bobby flay and gut fieri from food network',\n",
       " 'Excited about seeing Bobby Flay and Guy Fieri tomorrow at the Great American Food &amp; Music Fest!',\n",
       " 'Gonna go see Bobby Flay 2moro at Shoreline. Eat and drink. Gonna be good.',\n",
       " \"can't wait for the great american food and music festival at shoreline tomorrow.  mmm...katz pastrami and bobby flay. yes please.\",\n",
       " 'My dad was in NY for a day, we ate at MESA grill last night and met Bobby Flay. So much fun, except I completely lost my voice today.',\n",
       " 'Fighting with LaTex. Again...',\n",
       " \"@Iheartseverus we love you too and don't want you to die!!!!!!  Latex = the devil\",\n",
       " \"7 hours. 7 hours of inkscape crashing, normally solid as a rock. 7 hours of LaTeX complaining at the slightest thing. I can't take any more.\",\n",
       " 'How to Track Iran with Social Media: http://bit.ly/2BoqU',\n",
       " \"Shit's hitting the fan in Iran...craziness indeed #iranelection\",\n",
       " 'Monday already. Iran may implode. Kitchen is a disaster. @annagoss seems happy. @sebulous had a nice weekend and @goldpanda is great. whoop.',\n",
       " 'Twitter Stock buzz: $AAPL $ES_F $SPY $SPX $PALM  (updated: 12:00 PM)',\n",
       " 'getting ready to test out some burger receipes this weekend. Bobby Flay has some great receipes to try. Thanks Bobby.',\n",
       " '@johncmayer is Bobby Flay joining you?',\n",
       " 'i lam so in love with Bobby Flay... he is my favorite. RT @terrysimpson: @bflay you need a place in Phoenix. We have great peppers here!',\n",
       " \"I just created my first LaTeX file from scratch. That didn't work out very well. (See @amandabittner , it's a great time waster)\",\n",
       " 'using Linux and loving it - so much nicer than windows... Looking forward to using the wysiwyg latex editor!',\n",
       " 'After using LaTeX a lot, any other typeset mathematics just looks hideous.',\n",
       " 'Ask Programming: LaTeX or InDesign?: submitted by calcio1 [link] [1 comment] http://tinyurl.com/myfmf7',\n",
       " 'On that note, I hate Word. I hate Pages. I hate LaTeX. There, I said it. I hate LaTeX. All you TEXN3RDS can come kill me now.',\n",
       " 'Ahhh... back in a *real* text editing environment. I &lt;3 LaTeX.',\n",
       " 'Trouble in Iran, I see. Hmm. Iran. Iran so far away. #flockofseagullsweregeopoliticallycorrect',\n",
       " 'Reading the tweets coming out of Iran... The whole thing is terrifying and incredibly sad...']"
      ]
     },
     "execution_count": 43,
     "metadata": {},
     "output_type": "execute_result"
    }
   ],
   "source": [
    "list(dataReader[\"text\"].values)"
   ]
  },
  {
   "cell_type": "code",
   "execution_count": 44,
   "id": "f6abdab9",
   "metadata": {},
   "outputs": [
    {
     "data": {
      "text/html": [
       "<div>\n",
       "<style scoped>\n",
       "    .dataframe tbody tr th:only-of-type {\n",
       "        vertical-align: middle;\n",
       "    }\n",
       "\n",
       "    .dataframe tbody tr th {\n",
       "        vertical-align: top;\n",
       "    }\n",
       "\n",
       "    .dataframe thead th {\n",
       "        text-align: right;\n",
       "    }\n",
       "</style>\n",
       "<table border=\"1\" class=\"dataframe\">\n",
       "  <thead>\n",
       "    <tr style=\"text-align: right;\">\n",
       "      <th></th>\n",
       "      <th>neg</th>\n",
       "      <th>neu</th>\n",
       "      <th>pos</th>\n",
       "      <th>compound</th>\n",
       "    </tr>\n",
       "  </thead>\n",
       "  <tbody>\n",
       "    <tr>\n",
       "      <th>0</th>\n",
       "      <td>0.000</td>\n",
       "      <td>0.627</td>\n",
       "      <td>0.373</td>\n",
       "      <td>0.8373</td>\n",
       "    </tr>\n",
       "    <tr>\n",
       "      <th>0</th>\n",
       "      <td>0.000</td>\n",
       "      <td>0.530</td>\n",
       "      <td>0.470</td>\n",
       "      <td>0.7964</td>\n",
       "    </tr>\n",
       "    <tr>\n",
       "      <th>0</th>\n",
       "      <td>0.000</td>\n",
       "      <td>0.722</td>\n",
       "      <td>0.278</td>\n",
       "      <td>0.4724</td>\n",
       "    </tr>\n",
       "    <tr>\n",
       "      <th>0</th>\n",
       "      <td>0.122</td>\n",
       "      <td>0.593</td>\n",
       "      <td>0.285</td>\n",
       "      <td>0.7772</td>\n",
       "    </tr>\n",
       "    <tr>\n",
       "      <th>0</th>\n",
       "      <td>0.000</td>\n",
       "      <td>0.457</td>\n",
       "      <td>0.543</td>\n",
       "      <td>0.8934</td>\n",
       "    </tr>\n",
       "  </tbody>\n",
       "</table>\n",
       "</div>"
      ],
      "text/plain": [
       "     neg    neu    pos  compound\n",
       "0  0.000  0.627  0.373    0.8373\n",
       "0  0.000  0.530  0.470    0.7964\n",
       "0  0.000  0.722  0.278    0.4724\n",
       "0  0.122  0.593  0.285    0.7772\n",
       "0  0.000  0.457  0.543    0.8934"
      ]
     },
     "execution_count": 44,
     "metadata": {},
     "output_type": "execute_result"
    }
   ],
   "source": [
    "Vad_result=sentimentScore(list(dataReader[\"text\"].values))\n",
    "Vad_result.head()"
   ]
  },
  {
   "cell_type": "code",
   "execution_count": 47,
   "id": "ee582a23",
   "metadata": {},
   "outputs": [],
   "source": [
    "y_Vadpred=[]\n",
    "for i in range(Vad_result.shape[0]):\n",
    "    if Vad_result.iloc[i][\"pos\"] > Vad_result.iloc[i][\"neg\"]:\n",
    "         y_Vadpred.append(4)\n",
    "    elif Vad_result.iloc[i][\"pos\"] < Vad_result.iloc[i][\"neg\"]:\n",
    "        y_Vadpred.append(0)\n",
    "    else:\n",
    "        y_Vadpred.append(2)  \n"
   ]
  },
  {
   "cell_type": "code",
   "execution_count": 49,
   "id": "4f6586c1",
   "metadata": {},
   "outputs": [],
   "source": [
    "y_pred = pd.Series(y_Vadpred)\n",
    "y_true=dataReader[\"Polarite\"]"
   ]
  },
  {
   "cell_type": "code",
   "execution_count": 50,
   "id": "ac4c9289",
   "metadata": {},
   "outputs": [
    {
     "data": {
      "text/plain": [
       "356"
      ]
     },
     "execution_count": 50,
     "metadata": {},
     "output_type": "execute_result"
    }
   ],
   "source": [
    "# Nombre de tweets correctement classifiés\n",
    "(y_true.values == y_pred.values).sum()"
   ]
  },
  {
   "cell_type": "code",
   "execution_count": 51,
   "id": "de5583e8",
   "metadata": {},
   "outputs": [
    {
     "data": {
      "text/plain": [
       "71.4859437751004"
      ]
     },
     "execution_count": 51,
     "metadata": {},
     "output_type": "execute_result"
    }
   ],
   "source": [
    "# Accuracy\n",
    "((y_true.values == y_pred.values).sum()/n )*100"
   ]
  },
  {
   "cell_type": "markdown",
   "id": "64e1570d",
   "metadata": {},
   "source": [
    "Les performances performances de Vader sont meilleures. \n",
    "\n",
    "\n",
    "On peut faire plus de nettoyage du corpus (enlever tous les stop-word par exemple)."
   ]
  }
 ],
 "metadata": {
  "kernelspec": {
   "display_name": "Python 3 (ipykernel)",
   "language": "python",
   "name": "python3"
  },
  "language_info": {
   "codemirror_mode": {
    "name": "ipython",
    "version": 3
   },
   "file_extension": ".py",
   "mimetype": "text/x-python",
   "name": "python",
   "nbconvert_exporter": "python",
   "pygments_lexer": "ipython3",
   "version": "3.9.16"
  }
 },
 "nbformat": 4,
 "nbformat_minor": 5
}
